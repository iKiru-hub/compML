{
 "cells": [
  {
   "cell_type": "markdown",
   "metadata": {
    "id": "P8GQ5kpn_pMI",
    "tags": []
   },
   "source": [
    "## Libraries\n",
    "---"
   ]
  },
  {
   "cell_type": "code",
   "execution_count": 1,
   "metadata": {
    "id": "deL3TUzvwa5-"
   },
   "outputs": [
    {
     "name": "stdout",
     "output_type": "stream",
     "text": [
      "% all imported %\n"
     ]
    }
   ],
   "source": [
    "# standard libraries\n",
    "import numpy as np\n",
    "import matplotlib.pyplot as plt\n",
    "import pandas as pd\n",
    "import sys\n",
    "import os\n",
    "import time\n",
    "\n",
    "from sklearn.metrics import accuracy_score\n",
    "\n",
    "# pytorch\n",
    "from torch import nn, optim, no_grad\n",
    "import torch\n",
    "from torch.autograd import Variable\n",
    "import torch.nn.functional as F\n",
    "from torchvision.transforms import ToTensor\n",
    "from torch.utils.data import DataLoader\n",
    "from torchvision.datasets import MNIST\n",
    "from sklearn.model_selection import train_test_split\n",
    "from sklearn.datasets import fetch_openml\n",
    "\n",
    "\n",
    "from IPython.display import clear_output, display\n",
    "from tqdm import tqdm\n",
    "\n",
    "%load_ext autoreload\n",
    "%autoreload 2\n",
    "#%matplotlib widget\n",
    "\n",
    "import utils_2 as u\n",
    "print(\"% all imported %\")"
   ]
  },
  {
   "cell_type": "markdown",
   "metadata": {
    "id": "XJqMQjgMoh7u"
   },
   "source": [
    "## MNIST dataset\n",
    "---"
   ]
  },
  {
   "cell_type": "markdown",
   "metadata": {},
   "source": [
    "**LOAD**"
   ]
  },
  {
   "cell_type": "code",
   "execution_count": 2,
   "metadata": {
    "colab": {
     "base_uri": "https://localhost:8080/"
    },
    "id": "zemVtfzKNIlX",
    "outputId": "84911c25-5007-44a0-c852-8b2304c2918d"
   },
   "outputs": [
    {
     "name": "stdout",
     "output_type": "stream",
     "text": [
      "xtrain: torch.Size([49000, 784])\n",
      "ytrain: torch.Size([49000])\n",
      "\n",
      "xtest: torch.Size([14000, 784])\n",
      "ytest: torch.Size([14000])\n",
      "\n",
      "xval: torch.Size([7000, 784])\n",
      "yval: torch.Size([7000])\n",
      "\n",
      "xtrain noisy: torch.Size([49000, 784])\n",
      "xtest_noisy: torch.Size([14000, 784])\n",
      "xval_noisy: torch.Size([7000, 784])\n"
     ]
    }
   ],
   "source": [
    "xtrain, ytrain, xtest, ytest, xval, yval, xtrain_noisy, xtest_noisy, xval_noisy = u.build_data(noise_spread=0.1,\n",
    "                                                                                               noise_level=0.2,\n",
    "                                                                                               test_prop=0.2,\n",
    "                                                                                               val_prop=0.1)"
   ]
  },
  {
   "cell_type": "markdown",
   "metadata": {},
   "source": [
    "**LABELS**\n",
    "\n",
    "defined as one-hot encoding. E.g. *[1,0,0,0,0,0,0,0,0] for the digit \"0\"*"
   ]
  },
  {
   "cell_type": "code",
   "execution_count": 3,
   "metadata": {
    "id": "43SGk__glw5x"
   },
   "outputs": [
    {
     "name": "stdout",
     "output_type": "stream",
     "text": [
      "shape:  torch.Size([49000, 1, 10])\n"
     ]
    }
   ],
   "source": [
    "n_classes = 10\n",
    "ytrain_hot = u.one_hot_encoding_in_batches(ytrain)\n",
    "ytest_hot = u.one_hot_encoding_in_batches(ytest)\n",
    "print('shape: ', ytrain_hot.shape)"
   ]
  },
  {
   "cell_type": "markdown",
   "metadata": {
    "id": "kw3ldlDJkYpA"
   },
   "source": [
    "# **Design**\n",
    "\n",
    "**Goal:** dataset augmentation for improving classification accuracy\n",
    "\n",
    "**Methods:** \n",
    "- *Variational Autoencoder*\n",
    "- *Generative Adversarial Network*\n",
    "\n",
    "plus, a *Denoising Autoencoder* is used to clean the noisy generated images\n",
    "\n",
    "**Notebook design:**\n",
    "\n",
    "\n",
    "1.   Pre-augmentation \n",
    "        - *CNN model architecture*\n",
    "2.   DCCVAE augmentation\n",
    "        - *model architecture*\n",
    "3.   GAN augmentation\n",
    "        - *model architecture*\n",
    "4.   Denoising Autoencoder\n",
    "        - *model architecture*\n",
    "5.   Compact Run\n",
    "        - *dataset setting*\n",
    "        - *DAE run*\n",
    "        - *DCCVAE run*\n",
    "        - *DCCGAN run*\n",
    "6.   Results\n",
    "    - *data augmentation*\n",
    "    - *pre-augmentation accuracy*\n",
    "    - *post-augmentation accuracy*\n",
    "\n",
    "For length reasons, the dataset have not been run in different cells, but in section 5. and 6. sequential runs have been carried out each time changing datset\n"
   ]
  },
  {
   "cell_type": "markdown",
   "metadata": {
    "id": "4uDaksbmlNj3",
    "tags": []
   },
   "source": [
    "# **1. Pre-Augementation**\n",
    "\n",
    "Simple CNN for benchmark"
   ]
  },
  {
   "cell_type": "code",
   "execution_count": 7,
   "metadata": {
    "id": "x7OVd6aioYPJ"
   },
   "outputs": [],
   "source": [
    "class CNN():\n",
    "    def __init__(self, n_output=10, channels=3):\n",
    "\n",
    "        self.model = nn.Sequential(\n",
    "          \n",
    "            nn.Conv2d(channels, 32, kernel_size=3, stride=1, padding=1),\n",
    "            nn.BatchNorm2d(32),\n",
    "            nn.LeakyReLU(inplace=True),\n",
    "            nn.MaxPool2d(kernel_size=2, stride=2),\n",
    "           \n",
    "            nn.Conv2d(32, 32, kernel_size=3, stride=1, padding=1),\n",
    "            nn.BatchNorm2d(32),\n",
    "            nn.LeakyReLU(inplace=True),\n",
    "            nn.MaxPool2d(kernel_size=2, stride=2),\n",
    "\n",
    "            nn.Flatten(),\n",
    "            nn.Linear(32 * 7 * 7, 100),\n",
    "            nn.ReLU(),\n",
    "            nn.Linear(100, n_output),\n",
    "        ).cuda()\n",
    "      \n",
    "        self.optimizer = optim.Adam(self.model.parameters(), lr=0.001)\n",
    "        self.criterion = nn.CrossEntropyLoss().cuda()\n",
    "        self.channels = channels\n",
    "\n",
    "    def testing(self, test_x, test_y):\n",
    "        with torch.no_grad():\n",
    "            output = self.model(test_x)\n",
    "        \n",
    "        softmax = torch.exp(output).cpu()\n",
    "        prob = list(softmax.numpy())\n",
    "        predictions = np.argmax(prob, axis=1)\n",
    "        return accuracy_score(test_y.cpu(), predictions)*100\n",
    "            \n",
    "    def training(self, epochs=1, x_train=xtrain, y_train=ytrain, x_val=xval, y_val=yval, x_test=xtest, y_test=ytest):\n",
    "        self.model.train()\n",
    "  \n",
    "        x_train, y_train = Variable(x_train.reshape(-1, batch_size, self.channels, 28, 28)).cuda(), Variable(y_train.reshape(-1, batch_size)).cuda()\n",
    "        x_val, y_val = Variable(x_val.reshape(-1, self.channels, 28, 28)).cuda(), Variable(y_val.reshape(-1)).cuda()\n",
    "        x_test, y_test = Variable(x_test.reshape(-1, self.channels, 28, 28)).cuda(), Variable(y_test.reshape(-1)).cuda()\n",
    "      \n",
    "        # run\n",
    "        for epoch in range(epochs):\n",
    "            for x, y, in zip(x_train, y_train):\n",
    "                self.optimizer.zero_grad()\n",
    "                \n",
    "                output_train = self.model(x) \n",
    "\n",
    "                loss_train = self.criterion(output_train, y)\n",
    "\n",
    "                loss_train.backward()\n",
    "                self.optimizer.step()\n",
    "\n",
    "            if epoch%2 == 0:\n",
    "                clear_output(wait=True)\n",
    "                print(f'Epoch: {epoch+1}\\tloss: {loss_train.cpu().item():.3f}\\tacc: {self.testing(x_val[:min(1000, len(x_val))], y_val[:min(1000, len(y_val))]):.2f}%')\n",
    "\n",
    "        print('\\n+training ended+')\n",
    "\n",
    "        print('\\n', '-'*50)\n",
    "        print(f'\\ntest accuracy: {self.testing(x_test[:min(1000, len(x_val))], y_test[:min(1000, len(x_val))]):.2f}%')\n"
   ]
  },
  {
   "cell_type": "markdown",
   "metadata": {
    "id": "_MDcRcPUPyM1",
    "jp-MarkdownHeadingCollapsed": true,
    "tags": []
   },
   "source": [
    "# **2. Deep Convolutional Conditional VAE**"
   ]
  },
  {
   "cell_type": "code",
   "execution_count": null,
   "metadata": {
    "id": "TwxZk9gqPCwk"
   },
   "outputs": [],
   "source": [
    "class Encoder(nn.Module):\n",
    "    def __init__(self, d_in=784, z=36, channels=1, n_classes=10):\n",
    "        super().__init__()\n",
    "\n",
    "        self.z = z*2\n",
    "        self.input_dim = d_in\n",
    "        self.n_classes = n_classes\n",
    "\n",
    "        # architecture\n",
    "\n",
    "        self.embed = nn.Embedding(num_embeddings=n_classes, embedding_dim=50)\n",
    "        self.lin0 = nn.Linear(in_features=50, out_features=784)\n",
    "\n",
    "        self.conv1 = nn.Conv2d(channels, 32, 4, padding=1, stride=2)\n",
    "        self.bn1 = nn.BatchNorm2d(num_features=32)\n",
    "        self.lrelu1 = nn.LeakyReLU(inplace=True)\n",
    "        self.mpool1 = nn.MaxPool2d(2, 2)\n",
    "\n",
    "        self.conv2 = nn.Conv2d(32, 32, 3, padding=1, stride=1)\n",
    "        self.bn2 = nn.BatchNorm2d(num_features=32)\n",
    "        self.lrelu2 = nn.LeakyReLU(inplace=True)\n",
    "        self.mpool2 = nn.MaxPool2d(2, 2)\n",
    "\n",
    "        self.conv3 = nn.Conv2d(32, 32, 2, padding=1)\n",
    "        self.bn3 = nn.BatchNorm2d(num_features=32)\n",
    "        self.lrelu3 = nn.LeakyReLU(inplace=True)\n",
    "        \n",
    "        self.lin1 = nn.Linear(in_features=32*4*4, out_features=self.z)\n",
    "\n",
    "    def forward(self, x, y):\n",
    "\n",
    "        y = self.embed(y)\n",
    "        y = self.lin0(y).reshape(-1, 1, 28, 28)\n",
    "        \n",
    "        # concatenation image + label\n",
    "        x = torch.cat((x, y), axis=1)\n",
    "\n",
    "        x = self.conv1(x)\n",
    "        x = self.lrelu1(self.bn1(x))\n",
    "        x = self.mpool1(x)\n",
    "\n",
    "        x = self.conv2(x)\n",
    "        x = self.lrelu2(self.bn2(x))\n",
    "        x = self.mpool2(x)\n",
    "\n",
    "        x = self.conv3(x)\n",
    "        x = self.lrelu3(self.bn3(x))\n",
    "\n",
    "        x = x.view(-1, 32*4*4)\n",
    "\n",
    "        return self.lin1(x)\n"
   ]
  },
  {
   "cell_type": "code",
   "execution_count": null,
   "metadata": {
    "id": "J66FCTixQnBJ"
   },
   "outputs": [],
   "source": [
    "class Decoder(nn.Module):\n",
    "    def __init__(self, d_in=784, channels=2, z=36, n_classes=10):\n",
    "        super().__init__()\n",
    "\n",
    "        self.z = z\n",
    "        self.zsqrt = np.sqrt(z).astype(int)\n",
    "        self.input_dim = d_in\n",
    "        self.n_classes = n_classes\n",
    "        self.channels = channels\n",
    "\n",
    "        # architecture\n",
    "\n",
    "        self.embed = nn.Embedding(num_embeddings=n_classes, embedding_dim=50)\n",
    "        self.lin0 = nn.Linear(in_features=50, out_features=z)\n",
    "        self.lin1 = nn.Linear(in_features=z*2, out_features=2*10*10)\n",
    "      \n",
    "        self.tconv1 = nn.ConvTranspose2d(2, 64, 3, stride=1, padding=1)\n",
    "        self.lrelu1 = nn.LeakyReLU(inplace=True)\n",
    "\n",
    "        self.tconv2 = nn.ConvTranspose2d(64, 64, 4, stride=1)\n",
    "        self.lrelu2 = nn.LeakyReLU(inplace=True)\n",
    "\n",
    "        self.tconv3 = nn.ConvTranspose2d(64, channels-1, 4, stride=2)\n",
    "\n",
    "        self.sig = nn.Sigmoid()\n",
    "        \n",
    "\n",
    "    def forward(self, z, y):\n",
    "\n",
    "        y = self.embed(y)\n",
    "        y = self.lin0(y).reshape(-1, 1, self.zsqrt, self.zsqrt)\n",
    "\n",
    "        # concatenation latent vector z + label\n",
    "        x = torch.cat((z, y), axis=1).view(-1, self.channels*self.zsqrt*self.zsqrt)\n",
    "        \n",
    "        x = self.lin1(x).reshape(-1, self.channels, 10, 10)\n",
    "\n",
    "        x = self.lrelu1(self.tconv1(x))\n",
    "        x = self.lrelu2(self.tconv2(x))\n",
    "\n",
    "        return self.sig(self.tconv3(x))\n"
   ]
  },
  {
   "cell_type": "code",
   "execution_count": null,
   "metadata": {
    "id": "iJimC0FiPxZg"
   },
   "outputs": [],
   "source": [
    "class DCCVAE(nn.Module):\n",
    "    def __init__(self, d_in=784, z=36, n_classes=10, channels=2):\n",
    "        super().__init__()\n",
    "        \n",
    "        self.z = z\n",
    "        self.zsqrt = np.sqrt(z).astype(int)\n",
    "        self.input_dim = d_in \n",
    "\n",
    "        #Encoder\n",
    "        self.encoder = Encoder(d_in=d_in, z=z, channels=channels, n_classes=n_classes)\n",
    "       \n",
    "        #Decoder\n",
    "        self.decoder = Decoder(d_in=d_in, z=z, channels=channels, n_classes=n_classes)\n",
    "\n",
    "\n",
    "    def reparameterise(self, mu, logvar):  # mu + sigma * eps\n",
    "        if self.training:\n",
    "            std = logvar.mul(0.5).exp_()\n",
    "            eps = std.data.new(std.size()).normal_()\n",
    "            return eps.mul(std).add_(mu)\n",
    "        else:\n",
    "            return mu\n",
    "\n",
    "    def forward(self, x, y):\n",
    "        mu_logvar = self.encoder(x, y).view(-1, 2, self.z)\n",
    "        mu = mu_logvar[:, 0, :]\n",
    "        logvar = mu_logvar[:, 1, :]\n",
    "        z = self.reparameterise(mu, logvar).reshape(-1, 1, self.zsqrt, self.zsqrt)\n",
    "        return self.decoder(z, y), mu, logvar\n",
    "\n",
    "\n",
    "\n",
    "class DCCVAE_model:\n",
    "    def __init__(self, n_input=784, n_classes=10, z=36, channels=2):\n",
    "\n",
    "        self.n_input = n_input\n",
    "        self.n_output = n_classes\n",
    "        self.channels = channels\n",
    "\n",
    "        self.cvae = DCCVAE(d_in=n_input, z=z, n_classes=n_classes, channels=channels).cuda()\n",
    "\n",
    "        self.optimizer = optim.Adam(self.cvae.parameters(), lr=0.001)\n",
    "\n",
    "        print(self.cvae)\n",
    "\n",
    "\n",
    "    def loss_function(self, x_hat, x, mu, logvar):\n",
    "        BCE = nn.functional.binary_cross_entropy(x_hat, x, reduction='sum')\n",
    "\n",
    "        KLD = 0.5 * torch.sum(logvar.exp() - logvar - 1 + mu.pow(2))\n",
    "\n",
    "        return BCE + KLD\n",
    "\n",
    "\n",
    "    def test(self, X, Y):\n",
    "        with no_grad():\n",
    "            loss = 0\n",
    "            for x, y in zip(X, Y):\n",
    "                x_hat, mu, logvar = self.cvae(x, y)\n",
    "                loss += self.loss_function(x_hat, x, mu, logvar).cpu().numpy().item()\n",
    "                \n",
    "        return loss / len(X) \n",
    "\n",
    "\n",
    "    def training(self, epochs=10, xtrain=xtrain, ytrain=ytrain, xval=xval, yval=yval):\n",
    "        train_losses = []\n",
    "        test_losses = []\n",
    "\n",
    "        xtrain = Variable(xtrain).cuda()\n",
    "        ytrain = Variable(ytrain).cuda()\n",
    "\n",
    "        xval = Variable(xval).cuda()\n",
    "        yval = Variable(yval).cuda()\n",
    "\n",
    "        self.cvae.train()\n",
    "        for epoch in range(1, epochs+1):\n",
    "            train_loss = 0\n",
    "            \n",
    "            for x, y in zip(xtrain, ytrain):\n",
    "                \n",
    "                x_hat, mu, logvar = self.cvae(x, y)\n",
    "                loss = self.loss_function(x_hat, x, mu, logvar)\n",
    "                train_loss += loss.item()\n",
    "                \n",
    "                self.optimizer.zero_grad()\n",
    "                loss.backward()\n",
    "                self.optimizer.step()\n",
    "                \n",
    "\n",
    "            test_loss = self.test(xval, yval)\n",
    "\n",
    "            train_losses.append(train_loss/len(xtrain))\n",
    "            test_losses.append(test_loss)\n",
    "        \n",
    "            # plotting\n",
    "            clear_output(wait=True)\n",
    "            plt.clf()\n",
    "            fig, (ax1, ax2) = plt.subplots(figsize=(10, 4), ncols=2)\n",
    "            ax1.plot(range(epoch), train_losses, label=f'training loss {train_losses[-1]:.2f}')\n",
    "            ax1.plot(range(epoch), test_losses, label=f'test loss {test_loss:.2f}')\n",
    "\n",
    "            ax1.set_xlim((0, epochs))\n",
    "            ax1.set_xlabel('epochs')\n",
    "            ax1.set_ylabel('loss')\n",
    "            ax1.set_title(f'Epoch {epoch}|{epochs} - Loss')\n",
    "            ax1.legend(loc='upper right')\n",
    "            \n",
    "            yu = ytest[np.random.randint(self.n_output), 0]\n",
    "            img = self.cvae.decoder(torch.randn(1, 1, self.cvae.zsqrt, self.cvae.zsqrt).cuda(), \n",
    "                                    yu.cuda()).detach().cpu().numpy()\n",
    "            img = img.reshape(28, 28) if self.channels == 2 else img.reshape(28, 28, 3)\n",
    "            ax2.imshow(img, cmap='Greys')\n",
    "            ax2.set_xticks(())\n",
    "            ax2.set_yticks(())\n",
    "            ax2.set_title(f'generated sample: {yu}')\n",
    "            plt.pause(0.0001)\n",
    "        \n",
    "        print('\\n- training ended -')\n",
    "\n",
    "    def generate(self, n_classes=2):\n",
    "        fig, axs = plt.subplots(figsize=(10, 6), nrows=2, ncols=5)\n",
    "        with no_grad():\n",
    "            for row in range(2):\n",
    "                for ax in axs[row]:\n",
    "                    idx = torch.randint(n_classes, (1, 1))\n",
    "                    img = self.cvae.decoder(torch.randn(1, 1, self.cvae.zsqrt, self.cvae.zsqrt).cuda(), \n",
    "                                    idx.cuda()).detach().cpu().numpy()\n",
    "                    img = img.reshape(28, 28) if self.channels == 2 else img.reshape(28, 28, 3)\n",
    "                    ax.imshow(img, cmap='Greys')\n",
    "                    ax.set_xticks(())\n",
    "                    ax.set_yticks(())\n",
    "                    ax.set_title(f'class {idx.item()}')\n",
    "                    \n",
    "        plt.show()\n",
    "\n",
    "    def generate_one(self, n_classes, idx):\n",
    "        with no_grad():\n",
    "            idx = torch.tensor([[idx]])\n",
    "            \n",
    "            img = self.cvae.decoder(torch.randn(1, 1, self.cvae.zsqrt, self.cvae.zsqrt).cuda(), \n",
    "                                    idx.cuda()).detach().cpu().numpy()\n",
    "            img = img.reshape(28, 28) if self.channels == 2 else img.reshape(28, 28, 3)\n",
    "            return img, idx\n"
   ]
  },
  {
   "cell_type": "markdown",
   "metadata": {
    "id": "SubIOd-aYy9h",
    "tags": []
   },
   "source": [
    "# **3. Conditional GAN** \n",
    "*(not used, left only for showing the results on MNIST)*"
   ]
  },
  {
   "cell_type": "code",
   "execution_count": 8,
   "metadata": {
    "id": "WryVE5B3Z0GG"
   },
   "outputs": [],
   "source": [
    "class CGAN:\n",
    "    def __init__(self, n_input=784, n_output=10, nz=20, channels=1):\n",
    "        \n",
    "        self.n_in = n_input\n",
    "        self.n_out = n_output\n",
    "        self.nz = nz\n",
    "        self.nc = channels\n",
    "\n",
    "        # networks\n",
    "        self.generator = nn.Sequential(\n",
    "            nn.Linear(in_features=nz + n_output, out_features=300),\n",
    "            nn.ReLU(),\n",
    "\n",
    "            nn.Linear(300, 400),\n",
    "            nn.ReLU(),\n",
    "\n",
    "            nn.Linear(400, n_input),\n",
    "            nn.Sigmoid(),\n",
    "\n",
    "        )\n",
    "        \n",
    "        self.discriminator = nn.Sequential(\n",
    "            nn.Linear(in_features=n_input + n_output, out_features=400),\n",
    "            nn.ReLU(),\n",
    "\n",
    "            nn.Linear(400, 300),\n",
    "            nn.ReLU(),\n",
    "\n",
    "            nn.Linear(300, 1),\n",
    "            nn.Sigmoid(),\n",
    "        )\n",
    "        \n",
    "        # setup optimizer\n",
    "        self.optimizerD = optim.Adam(self.discriminator.parameters(), lr=1e-3, betas=(0.5, 0.999))\n",
    "        self.optimizerG = optim.Adam(self.generator.parameters(), lr=1e-3, betas=(0.5, 0.999))\n",
    "\n",
    "        self.criterion = nn.BCELoss()\n",
    "\n",
    "        # labels\n",
    "        self.real_label = 1\n",
    "        self.fake_label = 0\n",
    "        \n",
    "    def training(self, epochs, xtrain, ytrain, batch_size=1, verbose=True):\n",
    "    \n",
    "        t0 = time.time()\n",
    "        sec, mins = 0, 0\n",
    "\n",
    "        loss_Dis = []\n",
    "        loss_Gen = []\n",
    "        acc_real = []\n",
    "        acc_fake = []\n",
    "\n",
    "        for epoch in range(epochs):\n",
    "            for i, (real_img, y) in enumerate(zip(xtrain, ytrain)):\n",
    "\n",
    "                ## training the Discriminator ##\n",
    "                self.discriminator.zero_grad()\n",
    "\n",
    "                # real images\n",
    "                batch_size = real_img.size(0)\n",
    "                label = torch.full((batch_size,), self.real_label,\n",
    "                                   dtype=real_img.dtype)  # label = (1, 1, ... 1)\n",
    "\n",
    "                # forward 1\n",
    "                #print(real_img.view(-1, self.n_in).shape, y.shape)\n",
    "                output = self.discriminator(torch.cat((real_img.view(-1, self.n_in), y), axis=1)).view(-1, 1).squeeze(1)  # forward D\n",
    "                errD_real = self.criterion(output, label) # loss 4 real img\n",
    "                errD_real.backward()\n",
    "                D_x = output.mean().item()  # D(x)\n",
    "\n",
    "                # fake images\n",
    "                noise = torch.randn(batch_size, self.nz)\n",
    "                fake = self.generator(torch.cat((noise, y), axis=1))  \n",
    "                label.fill_(self.fake_label)\n",
    "\n",
    "                # forward 2\n",
    "                output = self.discriminator(torch.cat((fake.detach(), y), axis=1)).view(-1, 1).squeeze(1)  \n",
    "                errD_fake = self.criterion(output, label)  \n",
    "                errD_fake.backward()\n",
    "                D_G_z1 = output.mean().item()  # D(G(z))\n",
    "\n",
    "                errD = errD_real + errD_fake  # total loss for D\n",
    "                self.optimizerD.step()\n",
    "\n",
    "\n",
    "                ## training the Generator ##\n",
    "\n",
    "                self.generator.zero_grad()\n",
    "                label.fill_(self.real_label)  # fake labels are real for generator cost\n",
    "\n",
    "                output = self.discriminator(torch.cat((fake, y), axis=1)).view(-1, 1).squeeze(1)  \n",
    "                errG = self.criterion(output, label)\n",
    "                errG.backward()\n",
    "                D_G_z2 = output.mean().item()\n",
    "                self.optimizerG.step()\n",
    "\n",
    "\n",
    "                ## display ##\n",
    "                if i % 400 == 0 and verbose:\n",
    "                    loss_Dis.append(errD.item())\n",
    "                    loss_Gen.append(errG.item())\n",
    "                    acc_real.append(D_x)\n",
    "                    acc_fake.append(D_G_z1)\n",
    "\n",
    "                    # plotting\n",
    "                    clear_output(wait=True)\n",
    "                    plt.clf()\n",
    "\n",
    "                    fig, (ax1, ax2, ax3) = plt.subplots(1, 3, figsize=(18, 4))\n",
    "                    plt.tight_layout(h_pad=3)\n",
    "\n",
    "                    # losses\n",
    "                    ax1.plot(range(len(loss_Dis)), loss_Dis, label=f'Discriminator loss: {loss_Dis[-1]:.2f}')\n",
    "                    ax1.plot(range(len(loss_Gen)), loss_Gen, label=f'Generator loss: {loss_Gen[-1]:.2f}')\n",
    "\n",
    "                    ax1.set_ylabel('Loss')\n",
    "                    ax1.set_title(f'Loss (Epoch {epoch+1}/{epochs})')\n",
    "                    ax1.legend(loc='upper right')\n",
    "\n",
    "                    # accuracy\n",
    "                    ax2.plot(range(len(acc_real)), acc_real, label=f'Accuracy for Real (1): {acc_real[-1]:.3f}')\n",
    "                    ax2.plot(range(len(acc_fake)), acc_fake, label=f'Accuracy for Fake (0): {acc_fake[-1]:.3f}')\n",
    "\n",
    "                    ax2.set_ylim((-0.1, 1.1))\n",
    "                    ax2.set_ylabel('Accuracy')\n",
    "                    ax2.set_title(f'Accuracy (Epoch {epoch+1}/{epochs})')\n",
    "                    ax2.legend(loc='upper right')\n",
    "\n",
    "                    # novel images\n",
    "                    targ = y[np.random.randint(0, len(y))]\n",
    "                    img = self.generator(torch.cat((torch.randn(1, self.nz),\n",
    "                                                     targ.reshape(1, self.n_out)), axis=1\n",
    "                                                    )).detach().numpy()\n",
    "\n",
    "                    ax3.imshow(img.reshape(28, 28), cmap='Greys')\n",
    "                    ax3.set_xticks(())\n",
    "                    ax3.set_yticks(())\n",
    "                    ax3.set_title(f'Generated sample: {torch.argmax(targ).item()}')\n",
    "\n",
    "                    display(fig)\n",
    "                    plt.close(fig)\n",
    "\n",
    "\n",
    "            if epoch == 0:\n",
    "                dft0 = time.time() - t0\n",
    "            dft = dft0 * (epochs - epoch)\n",
    "            sec = dft % 60\n",
    "            mins = (dft - sec) // 60\n",
    "\n",
    "        print('\\n- training ended -')\n",
    "\n",
    "    def generate(self):\n",
    "        fig, axs = plt.subplots(figsize=(10, 6), nrows=2, ncols=5)\n",
    "        with no_grad():\n",
    "            idx = 0\n",
    "            for row in range(2):\n",
    "                for ax in axs[row]:\n",
    "                    img = self.generator(torch.cat((torch.randn(1, self.nz), \n",
    "                                                    hot_numbers[idx].reshape(1, self.n_out)), axis=1\n",
    "                                                   )).detach().numpy().reshape(28, 28)\n",
    "                    ax.imshow(img, cmap='Greys')\n",
    "                    ax.set_xticks(())\n",
    "                    ax.set_yticks(())\n",
    "                    #ax.set_title(torch.argmax(hot_numbers[idx]).item())\n",
    "                    idx += 1\n",
    "        plt.show()\n",
    "\n",
    "    def generate2(self, n_classes=2):\n",
    "        fig, axs = plt.subplots(figsize=(10, 6), nrows=2, ncols=5)\n",
    "        with no_grad():\n",
    "            for row in range(2):\n",
    "                for ax in axs[row]:\n",
    "                    idx = np.random.randint(0, n_classes)\n",
    "                    hot = torch.zeros(n_classes)\n",
    "                    hot[idx] = 1\n",
    "                    img = self.generator(torch.cat((torch.rand(1, self.nz), \n",
    "                                                      hot.reshape(1, n_classes)), \n",
    "                                                    axis=1)).numpy().reshape(28, 28)\n",
    "                    ax.imshow(img, cmap='Greys')\n",
    "                    ax.set_xticks(())\n",
    "                    ax.set_yticks(())\n",
    "                    ax.set_title(f'class {idx}')\n",
    "                    \n",
    "        plt.show()"
   ]
  },
  {
   "cell_type": "code",
   "execution_count": 9,
   "metadata": {
    "colab": {
     "base_uri": "https://localhost:8080/"
    },
    "id": "049s0XmHa0vu",
    "outputId": "56165e9c-cdef-43f1-b074-3ebccf781e3f"
   },
   "outputs": [
    {
     "name": "stdout",
     "output_type": "stream",
     "text": [
      "Discriminator: \n",
      " Sequential(\n",
      "  (0): Linear(in_features=794, out_features=400, bias=True)\n",
      "  (1): ReLU()\n",
      "  (2): Linear(in_features=400, out_features=300, bias=True)\n",
      "  (3): ReLU()\n",
      "  (4): Linear(in_features=300, out_features=1, bias=True)\n",
      "  (5): Sigmoid()\n",
      ") \n",
      "Generator: \n",
      " Sequential(\n",
      "  (0): Linear(in_features=60, out_features=300, bias=True)\n",
      "  (1): ReLU()\n",
      "  (2): Linear(in_features=300, out_features=400, bias=True)\n",
      "  (3): ReLU()\n",
      "  (4): Linear(in_features=400, out_features=784, bias=True)\n",
      "  (5): Sigmoid()\n",
      ")\n"
     ]
    }
   ],
   "source": [
    "cgan = CGAN(n_output=10, nz=50)\n",
    "\n",
    "print('Discriminator: \\n', cgan.discriminator, '\\nGenerator: \\n', cgan.generator)"
   ]
  },
  {
   "cell_type": "code",
   "execution_count": null,
   "metadata": {
    "colab": {
     "base_uri": "https://localhost:8080/",
     "height": 363
    },
    "id": "cjx0wMNY7uh-",
    "outputId": "21e3a9b4-827a-45b0-f204-f7705df18188"
   },
   "outputs": [],
   "source": [
    "cgan.training(epochs=100, xtrain=xtrain, ytrain=ytrain_hot, batch_size=100, verbose=True)"
   ]
  },
  {
   "cell_type": "code",
   "execution_count": 24,
   "metadata": {},
   "outputs": [
    {
     "data": {
      "text/plain": [
       "torch.Size([49000, 1, 10])"
      ]
     },
     "execution_count": 24,
     "metadata": {},
     "output_type": "execute_result"
    }
   ],
   "source": [
    "ytrain_hot.unsqueeze(dim=1).shape"
   ]
  },
  {
   "cell_type": "code",
   "execution_count": 20,
   "metadata": {},
   "outputs": [
    {
     "data": {
      "text/plain": [
       "tensor([[ 1.1067,  0.1246, -1.5702, -0.7286, -0.0433, -0.6296, -0.6098, -2.1035,\n",
       "          0.1976]])"
      ]
     },
     "execution_count": 20,
     "metadata": {},
     "output_type": "execute_result"
    }
   ],
   "source": [
    "torch.cat((torch.randn(1, 5), torch.randn(1, 4)), axis=1)"
   ]
  },
  {
   "cell_type": "code",
   "execution_count": null,
   "metadata": {
    "colab": {
     "base_uri": "https://localhost:8080/",
     "height": 325
    },
    "id": "5eAf0vJBxAcN",
    "outputId": "45a4794a-b7cd-4b2d-e62b-feeb44ab1d70"
   },
   "outputs": [
    {
     "data": {
      "image/png": "[encoded data removed]",
      "text/plain": [
       "<Figure size 720x432 with 10 Axes>"
      ]
     },
     "metadata": {
      "tags": []
     },
     "output_type": "display_data"
    }
   ],
   "source": [
    "cgan.generate2(n_classes=n_classes)"
   ]
  },
  {
   "cell_type": "markdown",
   "metadata": {
    "id": "C4x0QSFIg68C",
    "jp-MarkdownHeadingCollapsed": true,
    "tags": []
   },
   "source": [
    "# **3.b Deep Convolutional Conditional GAN**"
   ]
  },
  {
   "cell_type": "code",
   "execution_count": 6,
   "metadata": {
    "id": "KlXA40vlhG67"
   },
   "outputs": [],
   "source": [
    "class Discriminator(nn.Module):\n",
    "    def __init__(self, d_in=784, channels=2, n_classes=10):\n",
    "        super().__init__()\n",
    "\n",
    "        self.input_dim = d_in\n",
    "        self.n_classes = n_classes\n",
    "        self.channels = channels\n",
    "\n",
    "        # architecture\n",
    "        self.embed = nn.Embedding(num_embeddings=n_classes, embedding_dim=20)\n",
    "        self.lin0 = nn.Linear(in_features=20, out_features=1*28*28)\n",
    "\n",
    "        self.conv1 = nn.Conv2d(channels, 32, 4, padding=1, stride=2)\n",
    "        self.bn1 = nn.BatchNorm2d(num_features=32)\n",
    "        self.lrelu1 = nn.LeakyReLU(inplace=True)\n",
    "        self.mpool1 = nn.MaxPool2d(2, 2)\n",
    "\n",
    "        self.conv2 = nn.Conv2d(32, 32, 3, padding=1, stride=1)\n",
    "        self.bn2 = nn.BatchNorm2d(num_features=32)\n",
    "        self.lrelu2 = nn.LeakyReLU(inplace=True)\n",
    "        self.mpool2 = nn.MaxPool2d(2, 2)\n",
    "\n",
    "        self.conv3 = nn.Conv2d(32, 32, 2, padding=1)\n",
    "        self.bn3 = nn.BatchNorm2d(num_features=32)\n",
    "        self.lrelu3 = nn.LeakyReLU(inplace=True)\n",
    "        \n",
    "        self.lin1 = nn.Linear(in_features=32*4*4, out_features=1)\n",
    "        self.sig = nn.Sigmoid() \n",
    "\n",
    "    def forward(self, x, y):\n",
    "\n",
    "        y = self.embed(y)\n",
    "        y = self.lin0(y).reshape(-1, 1, 28, 28)\n",
    "\n",
    "        # concatenation image + label\n",
    "        x = torch.cat((x, y), axis=1)\n",
    "\n",
    "        x = self.conv1(x)\n",
    "        x = self.lrelu1(self.bn1(x))\n",
    "        x = self.mpool1(x)\n",
    "\n",
    "        x = self.conv2(x)\n",
    "        x = self.lrelu2(self.bn2(x))\n",
    "        x = self.mpool2(x)\n",
    "\n",
    "        x = self.conv3(x)\n",
    "        x = self.lrelu3(self.bn3(x))\n",
    "\n",
    "        x = x.view(-1, 32*4*4)\n",
    "\n",
    "        return self.sig(self.lin1(x))\n"
   ]
  },
  {
   "cell_type": "code",
   "execution_count": null,
   "metadata": {
    "id": "81_-mB1Gh1Nq"
   },
   "outputs": [],
   "source": [
    "class Generator(nn.Module):\n",
    "    def __init__(self, d_in=784, channels=2, z=36, n_classes=10):\n",
    "        super().__init__()\n",
    "\n",
    "        self.z = z\n",
    "        self.zsqrt = np.sqrt(z).astype(int)\n",
    "        self.input_dim = d_in\n",
    "        self.n_classes = n_classes\n",
    "        self.channels = channels\n",
    "\n",
    "        # architecture\n",
    "        self.embed = nn.Embedding(num_embeddings=n_classes, embedding_dim=20)\n",
    "        self.lin0 = nn.Linear(in_features=20, out_features=z)\n",
    "        self.lin1 = nn.Linear(in_features=z*self.channels, out_features=self.channels*10*10)\n",
    "      \n",
    "        self.tconv1 = nn.ConvTranspose2d(channels, 64, 3, stride=1, padding=1)\n",
    "        self.bn1 = nn.BatchNorm2d(64)\n",
    "        self.lrelu1 = nn.LeakyReLU(inplace=True)\n",
    "\n",
    "        self.tconv2 = nn.ConvTranspose2d(64, 64, 4, stride=1)\n",
    "        self.bn2 = nn.BatchNorm2d(64)\n",
    "        self.lrelu2 = nn.LeakyReLU(inplace=True)\n",
    "\n",
    "        self.tconv3 = nn.ConvTranspose2d(64, self.channels-1, 4, stride=2)\n",
    "\n",
    "        self.sig = nn.Sigmoid()\n",
    "        \n",
    "\n",
    "    def forward(self, z, y):\n",
    "\n",
    "        y = self.embed(y)\n",
    "        y = self.lin0(y).reshape(-1, 1, self.zsqrt, self.zsqrt)\n",
    "\n",
    "        # concatenation latent vector z + label\n",
    "        x = torch.cat((z, y), axis=1).view(-1, self.channels*self.zsqrt*self.zsqrt)\n",
    "\n",
    "        x = self.lin1(x).reshape(-1, self.channels, 10, 10)\n",
    "\n",
    "        x = self.bn1(self.tconv1(x))\n",
    "        x = self.lrelu1(x)\n",
    "\n",
    "        x = self.bn2(self.tconv2(x))\n",
    "        x = self.lrelu2(x)\n",
    "\n",
    "        return self.sig(self.tconv3(x))\n"
   ]
  },
  {
   "cell_type": "code",
   "execution_count": null,
   "metadata": {
    "id": "4luQuzPciDVg"
   },
   "outputs": [],
   "source": [
    "class DCCGAN:\n",
    "    def __init__(self, n_input=784, n_classes=10, z=20, channels=1):\n",
    "        \n",
    "        self.n_in = n_input\n",
    "        self.n_out = n_classes\n",
    "        self.z = z\n",
    "        self.zsqrt = np.sqrt(z).astype(int)\n",
    "        self.channels = channels\n",
    "\n",
    "        # networks\n",
    "        self.generator = Generator(d_in=n_input, channels=channels, z=z, n_classes=n_classes).cuda()\n",
    "        print(self.generator)\n",
    "        \n",
    "        self.discriminator = Discriminator(d_in=n_input, channels=channels, n_classes=n_classes).cuda()\n",
    "        print(self.discriminator)\n",
    "\n",
    "        # setup optimizer\n",
    "        self.optimizerD = optim.Adam(self.discriminator.parameters(), lr=1e-3, betas=(0.5, 0.999))\n",
    "        self.optimizerG = optim.Adam(self.generator.parameters(), lr=1e-3, betas=(0.5, 0.999))\n",
    "\n",
    "        self.criterion = nn.BCELoss().cuda()\n",
    "\n",
    "        # labels\n",
    "        self.real_label = 1\n",
    "        self.fake_label = 0\n",
    "        \n",
    "    def training(self, epochs, xtrain, ytrain, xval=xval, yval=yval, verbose=True):\n",
    "        \n",
    "        xtrain = Variable(xtrain).cuda()\n",
    "        ytrain = Variable(ytrain).cuda()\n",
    "        \n",
    "        xval = Variable(xval).cuda()\n",
    "        yval = Variable(yval).cuda()\n",
    "\n",
    "        # for time\n",
    "        t0 = time.time()\n",
    "        sec, mins = 0, 0\n",
    "\n",
    "        loss_Dis = []\n",
    "        loss_Gen = []\n",
    "        acc_real = []\n",
    "        acc_fake = []\n",
    "        \n",
    "        for epoch in range(epochs):\n",
    "            for i, real_img, y in zip(range(len(xtrain)), xtrain, ytrain):\n",
    "\n",
    "                ## training the Discriminator ##\n",
    "                self.discriminator.zero_grad()\n",
    "                \n",
    "                # real images\n",
    "                batch_size = real_img.size(0)\n",
    "                label = torch.full((batch_size,), self.real_label,\n",
    "                                   dtype=real_img.dtype).cuda() # label = (1, 1, ... 1)\n",
    "\n",
    "                # forward 1\n",
    "                output = self.discriminator(real_img, y).view(-1, 1).squeeze(1)  # forward D\n",
    "                errD_real = self.criterion(output, label) # loss 4 real img\n",
    "                errD_real.backward()\n",
    "                D_x = output.mean().item()  # D(x)\n",
    "\n",
    "                # fake images\n",
    "                noise = torch.randn(batch_size, self.channels-1, self.zsqrt, self.zsqrt).cuda()\n",
    "                fake = self.generator(noise, y) \n",
    "\n",
    "                label.fill_(self.fake_label)\n",
    "                \n",
    "                # forward 2\n",
    "                \n",
    "                output = self.discriminator(fake.detach(), y).view(-1, 1).squeeze(1)  \n",
    "                errD_fake = self.criterion(output, label)  \n",
    "                errD_fake.backward()\n",
    "                D_G_z1 = output.mean().item()  # D(G(z))\n",
    "\n",
    "                errD = errD_real + errD_fake  # total loss for D\n",
    "                self.optimizerD.step()\n",
    "\n",
    "\n",
    "                ## training the Generator ##\n",
    "\n",
    "                self.generator.zero_grad()\n",
    "                label.fill_(self.real_label)  # fake labels are real for generator cost\n",
    "\n",
    "                output = self.discriminator(fake, y).view(-1, 1).squeeze(1)  \n",
    "                errG = self.criterion(output, label)\n",
    "                errG.backward()\n",
    "                D_G_z2 = output.mean().item()\n",
    "                self.optimizerG.step()\n",
    "\n",
    "\n",
    "                ## display ##\n",
    "\n",
    "                if i%400 == 0 and verbose:\n",
    "                    loss_Dis.append(errD.item())\n",
    "                    loss_Gen.append(errG.item())\n",
    "                    acc_real.append(D_x)\n",
    "                    acc_fake.append(D_G_z1)\n",
    "\n",
    "                \n",
    "                    # plotting\n",
    "                    clear_output(wait=True)\n",
    "                    plt.clf()\n",
    "\n",
    "                    fig = plt.figure(figsize=(16, 4))\n",
    "                    ax1 = plt.subplot(2, 2, 1)\n",
    "                    ax2 = plt.subplot(2, 2, 3)\n",
    "                    ax3 = plt.subplot(1, 2, 2)\n",
    "                    plt.tight_layout(h_pad=3)\n",
    "\n",
    "                    # losses\n",
    "                    ax1.plot(range(len(loss_Dis)), loss_Dis, label=f'Discrimator loss: {loss_Dis[-1]:.2f}')\n",
    "                    ax1.plot(range(len(loss_Gen)), loss_Gen, label=f'Generator loss:   {loss_Gen[-1]:.2f}')\n",
    "\n",
    "                    ax1.set_ylabel('loss')\n",
    "                    ax1.set_title(f'Loss | Epoch {epoch+1} of {epochs}')\n",
    "                    ax1.legend(loc='upper right')\n",
    "\n",
    "                    # accuracy\n",
    "                    ax2.plot(range(len(acc_real)), acc_real, label=f'classification of Real (1): {acc_real[-1]:.3f}')\n",
    "                    ax2.plot(range(len(acc_fake)), acc_fake, label=f'classification of Fake (0): {acc_fake[-1]:.3f}')\n",
    "\n",
    "                    ax2.set_ylim((-0.1, 1.1))\n",
    "                    ax2.set_ylabel('accuracy')\n",
    "                    ax2.set_title(f'Accuracy | remaining: {mins:.0f}m {sec:.0f}s')\n",
    "                    ax2.legend(loc='upper right')\n",
    "                    \n",
    "                    # novel images\n",
    "                    targ = ytrain[np.random.randint(len(ytrain)), 0]\n",
    "                    img = self.generator(torch.randn(1, self.channels-1, self.zsqrt, self.zsqrt).cuda(), \n",
    "                                                    targ.cuda()).detach().cpu().numpy()\n",
    "                    img = img.reshape(28, 28) if self.channels == 2 else img.reshape(28, 28, 3)\n",
    "                    ax3.imshow(img, cmap='Greys')\n",
    "                    ax3.set_xticks(())\n",
    "                    ax3.set_yticks(())\n",
    "                    ax3.set_title(f'Generated sample: {targ.item()}')\n",
    "\n",
    "                    plt.pause(0.0001)\n",
    "                \n",
    "            if epoch == 0:\n",
    "                dft0 = time.time() - t0\n",
    "            dft = dft0 * (epochs - epoch)\n",
    "            sec = dft%60\n",
    "            mins = (dft-sec)//60\n",
    "\n",
    "        print('\\n- training ended -')\n",
    "\n",
    "    def generate(self, n_classes=2):\n",
    "        fig, axs = plt.subplots(figsize=(10, 6), nrows=2, ncols=5)\n",
    "        with no_grad():\n",
    "            for row in range(2):\n",
    "                for ax in axs[row]:\n",
    "                    idx = torch.randint(n_classes, (1, 1))\n",
    "                 \n",
    "                    img = self.generator(torch.randn(1, self.channels-1, self.zsqrt, self.zsqrt).cuda(), \n",
    "                                    idx.cuda()).detach().cpu().numpy()\n",
    "                    img = img.reshape(28, 28) if self.channels == 2 else img.reshape(28, 28, 3)\n",
    "                    ax.imshow(img, cmap='Greys')\n",
    "                    ax.set_xticks(())\n",
    "                    ax.set_yticks(())\n",
    "                    ax.set_title(f'class {idx.item()}')\n",
    "                    \n",
    "        plt.show()\n",
    "\n",
    "    def generate_one(self, n_classes, idx):\n",
    "        with no_grad():\n",
    "            idx = torch.tensor([[idx]])\n",
    "            \n",
    "            img = self.generator(torch.randn(1, self.channels-1, self.zsqrt, self.zsqrt).cuda(), \n",
    "                            idx.cuda()).detach().cpu().numpy()\n",
    "            img = img.reshape(28, 28) if self.channels == 2 else img.reshape(28, 28, 3)\n",
    "            return img, idx"
   ]
  },
  {
   "cell_type": "code",
   "execution_count": null,
   "metadata": {
    "colab": {
     "base_uri": "https://localhost:8080/"
    },
    "id": "qSwEKbA0jQkw",
    "outputId": "b872aa75-de02-4ac1-a26e-d8ee911afc7d"
   },
   "outputs": [
    {
     "name": "stdout",
     "output_type": "stream",
     "text": [
      "Generator(\n",
      "  (embed): Embedding(7, 10)\n",
      "  (lin0): Linear(in_features=10, out_features=49, bias=True)\n",
      "  (lin1): Linear(in_features=196, out_features=400, bias=True)\n",
      "  (tconv1): ConvTranspose2d(4, 64, kernel_size=(3, 3), stride=(1, 1), padding=(1, 1))\n",
      "  (bn1): BatchNorm2d(64, eps=1e-05, momentum=0.1, affine=True, track_running_stats=True)\n",
      "  (lrelu1): LeakyReLU(negative_slope=0.01, inplace=True)\n",
      "  (tconv2): ConvTranspose2d(64, 64, kernel_size=(4, 4), stride=(1, 1))\n",
      "  (bn2): BatchNorm2d(64, eps=1e-05, momentum=0.1, affine=True, track_running_stats=True)\n",
      "  (lrelu2): LeakyReLU(negative_slope=0.01, inplace=True)\n",
      "  (tconv3): ConvTranspose2d(64, 3, kernel_size=(4, 4), stride=(2, 2))\n",
      "  (sig): Sigmoid()\n",
      ")\n",
      "Discriminator(\n",
      "  (embed): Embedding(7, 10)\n",
      "  (lin0): Linear(in_features=10, out_features=784, bias=True)\n",
      "  (conv1): Conv2d(4, 32, kernel_size=(4, 4), stride=(2, 2), padding=(1, 1))\n",
      "  (bn1): BatchNorm2d(32, eps=1e-05, momentum=0.1, affine=True, track_running_stats=True)\n",
      "  (lrelu1): LeakyReLU(negative_slope=0.01, inplace=True)\n",
      "  (mpool1): MaxPool2d(kernel_size=2, stride=2, padding=0, dilation=1, ceil_mode=False)\n",
      "  (conv2): Conv2d(32, 32, kernel_size=(3, 3), stride=(1, 1), padding=(1, 1))\n",
      "  (bn2): BatchNorm2d(32, eps=1e-05, momentum=0.1, affine=True, track_running_stats=True)\n",
      "  (lrelu2): LeakyReLU(negative_slope=0.01, inplace=True)\n",
      "  (mpool2): MaxPool2d(kernel_size=2, stride=2, padding=0, dilation=1, ceil_mode=False)\n",
      "  (conv3): Conv2d(32, 32, kernel_size=(2, 2), stride=(1, 1), padding=(1, 1))\n",
      "  (bn3): BatchNorm2d(32, eps=1e-05, momentum=0.1, affine=True, track_running_stats=True)\n",
      "  (lrelu3): LeakyReLU(negative_slope=0.01, inplace=True)\n",
      "  (lin1): Linear(in_features=512, out_features=1, bias=True)\n",
      "  (sig): Sigmoid()\n",
      ")\n"
     ]
    }
   ],
   "source": [
    "dccgan = DCCGAN(n_classes=n_classes, z=49, channels=channels+1)"
   ]
  },
  {
   "cell_type": "code",
   "execution_count": null,
   "metadata": {
    "colab": {
     "base_uri": "https://localhost:8080/",
     "height": 363
    },
    "id": "-GzjQ4rlkUWs",
    "outputId": "8d347759-df19-499e-8dcb-2803c515454b"
   },
   "outputs": [
    {
     "data": {
      "text/plain": [
       "<Figure size 432x288 with 0 Axes>"
      ]
     },
     "metadata": {
      "tags": []
     },
     "output_type": "display_data"
    },
    {
     "data": {
      "image/png": "[encoded data removed]",
      "text/plain": [
       "<Figure size 1152x288 with 3 Axes>"
      ]
     },
     "metadata": {
      "needs_background": "light",
      "tags": []
     },
     "output_type": "display_data"
    },
    {
     "name": "stdout",
     "output_type": "stream",
     "text": [
      "\n",
      "- training ended -\n"
     ]
    }
   ],
   "source": [
    "dccgan.training(epochs=1, xtrain=xtrain, ytrain=ytrain, xval=xval, yval=yval)"
   ]
  },
  {
   "cell_type": "markdown",
   "metadata": {
    "id": "hGIHLVhg-Xoj",
    "jp-MarkdownHeadingCollapsed": true,
    "tags": []
   },
   "source": [
    "# **4. Denoising AutoEncoder**\n"
   ]
  },
  {
   "cell_type": "code",
   "execution_count": null,
   "metadata": {
    "id": "9ty8gKiThCYf"
   },
   "outputs": [],
   "source": [
    "class DAE:\n",
    "    def __init__(self, n_input=784, channels=1):\n",
    "\n",
    "        self.n_input = n_input\n",
    "        self.channels = channels\n",
    "\n",
    "        self.dae = nn.Sequential(\n",
    "            nn.Conv2d(channels, 64, 4, padding=1, stride=2),\n",
    "            nn.BatchNorm2d(num_features=64),\n",
    "            nn.LeakyReLU(inplace=True),\n",
    "            nn.MaxPool2d(2, 2),\n",
    "\n",
    "            nn.Conv2d(64, 64, 3, padding=1, stride=1),\n",
    "            nn.BatchNorm2d(num_features=64),\n",
    "            nn.LeakyReLU(inplace=True),\n",
    "            nn.MaxPool2d(2, 2),\n",
    "\n",
    "            nn.Conv2d(64, 4, 2, padding=1),\n",
    "            nn.BatchNorm2d(num_features=4),\n",
    "            nn.LeakyReLU(inplace=True),\n",
    "\n",
    "            nn.ConvTranspose2d(4, 64, 2, stride=2),\n",
    "            nn.BatchNorm2d(64),\n",
    "            nn.LeakyReLU(inplace=True),\n",
    "\n",
    "            nn.ConvTranspose2d(64, 64, 3, stride=1),\n",
    "            nn.BatchNorm2d(64),\n",
    "            nn.LeakyReLU(inplace=True),\n",
    "\n",
    "            nn.ConvTranspose2d(64, 64, 4, stride=1),\n",
    "            nn.LeakyReLU(64),\n",
    "\n",
    "            nn.ConvTranspose2d(64, channels, 4, stride=2),\n",
    "            nn.Sigmoid(),\n",
    "        ).cuda()\n",
    "\n",
    "        self.optimizer = optim.Adam(self.dae.parameters(), lr=1e-4, betas=(0.5, 0.999), weight_decay=0.001)\n",
    "        print(self.dae)\n",
    "\n",
    "    def test(self, X, Xn):\n",
    "        with no_grad():\n",
    "            loss = 0\n",
    "            for x, x_noisy in zip(X, Xn):\n",
    "                x_hat = self.dae(x_noisy)\n",
    "                loss += nn.functional.mse_loss(x_hat, x, reduction='sum')\n",
    "                \n",
    "        return loss / len(X)\n",
    "\n",
    "\n",
    "    def training(self, epochs, xtrain=xtrain, xtrain_noisy=xtrain_noisy, xtest=xtest, xtest_noisy=xtest_noisy, verbose=True):\n",
    "        train_losses = []\n",
    "        test_losses = []\n",
    "\n",
    "        xtrain = Variable(xtrain).cuda()\n",
    "        xtrain_noisy = Variable(xtrain_noisy).float().cuda()\n",
    "\n",
    "        xtest = Variable(xtest).cuda()\n",
    "        xtest_noisy = Variable(xtest_noisy).float().cuda()\n",
    "\n",
    "        self.dae.train()\n",
    "        for epoch in range(1, epochs+1):\n",
    "            train_loss = 0\n",
    "            \n",
    "            for i, x, x_noisy in zip(range(len(xtrain)), xtrain, xtrain_noisy):\n",
    "              \n",
    "                x_hat = self.dae(x_noisy)\n",
    "                loss = nn.functional.mse_loss(x_hat, x, reduction='sum')\n",
    "                train_loss += loss.item()\n",
    "                \n",
    "                self.optimizer.zero_grad()\n",
    "                loss.backward()\n",
    "                self.optimizer.step()\n",
    "            \n",
    "                # plotting\n",
    "                if i%400 == 0 and verbose:\n",
    "                    test_loss = self.test(xtest, xtest_noisy)\n",
    "\n",
    "                    train_losses.append(train_loss/len(xtrain))\n",
    "                    test_losses.append(test_loss)\n",
    "                \n",
    "                    clear_output(wait=True)\n",
    "\n",
    "                    ###########################################################\n",
    "                    plt.clf()\n",
    "                    fig, (ax1, ax2, ax3, ax4) = plt.subplots(figsize=(20, 4), ncols=4)\n",
    "                    ax1.plot(range(len(train_losses)), train_losses, \n",
    "                             label=f'training loss {train_losses[-1]:.2f}')\n",
    "                    ax1.plot(range(len(test_losses)), test_losses, \n",
    "                             label=f'test loss {test_loss:.2f}')\n",
    "\n",
    "                    ax1.set_ylabel('loss')\n",
    "                    ax1.set_title(f'Epoch {epoch}|{epochs} - Loss')\n",
    "                    ax1.legend(loc='upper right')\n",
    "                    \n",
    "                    idx = np.random.randint(0, len(x))\n",
    "\n",
    "                    img_x = x[idx, ...].cpu().numpy()\n",
    "                    img_x = img_x.reshape(28, 28) if self.channels == 1 else img_x.reshape(28, 28, 3)\n",
    "                    ax2.imshow(img_x, cmap='Greys')\n",
    "                    ax2.set_xticks(())\n",
    "                    ax2.set_yticks(())\n",
    "                    ax2.set_title('target image')\n",
    "\n",
    "                    img_noisy = x_noisy[idx, ...].cpu().numpy()\n",
    "                    img_noisy = img_noisy.reshape(28, 28) if self.channels == 1 else img_noisy.reshape(28, 28, 3)\n",
    "                    ax3.imshow(img_noisy, cmap='Greys')\n",
    "                    ax3.set_xticks(())\n",
    "                    ax3.set_yticks(())\n",
    "                    ax3.set_title('noisy image')\n",
    "                    \n",
    "                    img_hat = self.dae(x_noisy[idx, ...].reshape(1, self.channels, 28, 28)).detach().cpu().numpy()\n",
    "                    img_hat = img_hat.reshape(28, 28) if self.channels == 1 else img_hat.reshape(28, 28, 3)\n",
    "\n",
    "                    ax4.imshow(img_hat, cmap='Greys')\n",
    "                    ax4.set_xticks(())\n",
    "                    ax4.set_yticks(())\n",
    "                    ax4.set_title('reconstructed image')\n",
    "                    \n",
    "                    plt.pause(0.0001)\n",
    "            \n",
    "            if not verbose:\n",
    "                clear_output(wait=True)\n",
    "                print(f'epoch: {epoch}|{epochs}')\n",
    "\n",
    "        print('\\n- training ended -')\n",
    "\n",
    "\n",
    "    def reconstruct(self):\n",
    "\n",
    "        for i, x, x_noisy in zip(range(len(xtest)), xtest, xtest_noisy):\n",
    "\n",
    "            clear_output(wait=True)\n",
    "            \n",
    "            plt.clf()\n",
    "            fig, (ax2, ax3, ax4) = plt.subplots(figsize=(17, 4), ncols=3)\n",
    "            idx = np.random.randint(0, len(x))\n",
    "\n",
    "            img_x = x[idx, ...].cpu().numpy()\n",
    "            img_x = img_x.reshape(28, 28) if self.channels == 1 else img_x.reshape(28, 28, 3)\n",
    "            ax2.imshow(img_x, cmap='Greys')\n",
    "            ax2.set_xticks(())\n",
    "            ax2.set_yticks(())\n",
    "            ax2.set_title('target image')\n",
    "\n",
    "            img_noisy = x_noisy[idx, ...].cpu().numpy()\n",
    "            img_noisy = img_noisy.reshape(28, 28) if self.channels == 1 else img_noisy.reshape(28, 28, 3)\n",
    "            ax3.imshow(img_noisy, cmap='Greys')\n",
    "            ax3.set_xticks(())\n",
    "            ax3.set_yticks(())\n",
    "            ax3.set_title('noisy image')\n",
    "            \n",
    "            img_hat = self.dae(x[idx, ...].reshape(1, self.channels, 28, 28)).detach().cpu().numpy()\n",
    "            img_hat = img_hat.reshape(28, 28) if self.channels == 1 else img_hat.reshape(28, 28, 3)\n",
    "\n",
    "            ax4.imshow(img_hat, cmap='Greys')\n",
    "            ax4.set_xticks(())\n",
    "            ax4.set_yticks(())\n",
    "            ax4.set_title('reconstructed image')\n",
    "            \n",
    "            plt.pause(0.3)\n",
    "\n",
    "            if i == 100:\n",
    "                break"
   ]
  },
  {
   "cell_type": "code",
   "execution_count": null,
   "metadata": {
    "colab": {
     "base_uri": "https://localhost:8080/"
    },
    "id": "NecaoI_ThxZb",
    "outputId": "6d798efb-5937-4214-8426-8d34023d5cfc"
   },
   "outputs": [
    {
     "name": "stdout",
     "output_type": "stream",
     "text": [
      "Sequential(\n",
      "  (0): Conv2d(3, 64, kernel_size=(4, 4), stride=(2, 2), padding=(1, 1))\n",
      "  (1): BatchNorm2d(64, eps=1e-05, momentum=0.1, affine=True, track_running_stats=True)\n",
      "  (2): LeakyReLU(negative_slope=0.01, inplace=True)\n",
      "  (3): MaxPool2d(kernel_size=2, stride=2, padding=0, dilation=1, ceil_mode=False)\n",
      "  (4): Conv2d(64, 64, kernel_size=(3, 3), stride=(1, 1), padding=(1, 1))\n",
      "  (5): BatchNorm2d(64, eps=1e-05, momentum=0.1, affine=True, track_running_stats=True)\n",
      "  (6): LeakyReLU(negative_slope=0.01, inplace=True)\n",
      "  (7): MaxPool2d(kernel_size=2, stride=2, padding=0, dilation=1, ceil_mode=False)\n",
      "  (8): Conv2d(64, 4, kernel_size=(2, 2), stride=(1, 1), padding=(1, 1))\n",
      "  (9): BatchNorm2d(4, eps=1e-05, momentum=0.1, affine=True, track_running_stats=True)\n",
      "  (10): LeakyReLU(negative_slope=0.01, inplace=True)\n",
      "  (11): ConvTranspose2d(4, 64, kernel_size=(2, 2), stride=(2, 2))\n",
      "  (12): BatchNorm2d(64, eps=1e-05, momentum=0.1, affine=True, track_running_stats=True)\n",
      "  (13): LeakyReLU(negative_slope=0.01, inplace=True)\n",
      "  (14): ConvTranspose2d(64, 64, kernel_size=(3, 3), stride=(1, 1))\n",
      "  (15): BatchNorm2d(64, eps=1e-05, momentum=0.1, affine=True, track_running_stats=True)\n",
      "  (16): LeakyReLU(negative_slope=0.01, inplace=True)\n",
      "  (17): ConvTranspose2d(64, 64, kernel_size=(4, 4), stride=(1, 1))\n",
      "  (18): LeakyReLU(negative_slope=64)\n",
      "  (19): ConvTranspose2d(64, 3, kernel_size=(4, 4), stride=(2, 2))\n",
      "  (20): Sigmoid()\n",
      ")\n"
     ]
    }
   ],
   "source": [
    "dae = DAE(channels=channels)"
   ]
  },
  {
   "cell_type": "code",
   "execution_count": null,
   "metadata": {
    "colab": {
     "base_uri": "https://localhost:8080/",
     "height": 334
    },
    "id": "oCte3lreh11d",
    "outputId": "a7c637d2-6b72-4ec6-8aad-6cc6957ed465"
   },
   "outputs": [
    {
     "data": {
      "text/plain": [
       "<Figure size 432x288 with 0 Axes>"
      ]
     },
     "metadata": {
      "tags": []
     },
     "output_type": "display_data"
    },
    {
     "data": {
      "image/png": "[encoded data removed]",
      "text/plain": [
       "<Figure size 1440x288 with 4 Axes>"
      ]
     },
     "metadata": {
      "needs_background": "light",
      "tags": []
     },
     "output_type": "display_data"
    },
    {
     "name": "stdout",
     "output_type": "stream",
     "text": [
      "\n",
      "- training ended -\n"
     ]
    }
   ],
   "source": [
    "dae.training(epochs=15, xtrain=xtrain, xtrain_noisy=xtrain_noisy, xtest=xtest, xtest_noisy=xtest_noisy, verbose=True)"
   ]
  },
  {
   "cell_type": "markdown",
   "metadata": {
    "id": "TCBoTay3SZX4"
   },
   "source": [
    "# **5. Compact Run**"
   ]
  },
  {
   "cell_type": "markdown",
   "metadata": {
    "id": "fuMnV9FlSvEL"
   },
   "source": [
    "### data"
   ]
  },
  {
   "cell_type": "code",
   "execution_count": 4,
   "metadata": {
    "id": "l-LAiVcpAFZx"
   },
   "outputs": [],
   "source": [
    "# maximum common denominator, for calculating the batchsize of the training data\n",
    "def MCD(n1, n2, maxb):\n",
    "    values = []\n",
    "    for b in range(maxb, 1, -1):\n",
    "        if n1%b != 0:\n",
    "            continue\n",
    "        elif n2%b == 0:\n",
    "            values.append(b)\n",
    "    return values"
   ]
  },
  {
   "cell_type": "code",
   "execution_count": 5,
   "metadata": {
    "colab": {
     "base_uri": "https://localhost:8080/"
    },
    "id": "6fmjXnHeAgGj",
    "outputId": "0bc12729-292a-4856-b4a7-abf935d30463"
   },
   "outputs": [
    {
     "data": {
      "text/plain": [
       "[6, 3, 2]"
      ]
     },
     "execution_count": 5,
     "metadata": {},
     "output_type": "execute_result"
    }
   ],
   "source": [
    "MCD(n1=17778, n2=17778, maxb=300)"
   ]
  },
  {
   "cell_type": "code",
   "execution_count": 7,
   "metadata": {
    "colab": {
     "base_uri": "https://localhost:8080/"
    },
    "id": "ntz5zZhBSmyH",
    "outputId": "2b2384fd-ef41-4e75-c1e1-4bcfb6347687"
   },
   "outputs": [
    {
     "name": "stdout",
     "output_type": "stream",
     "text": [
      "\n",
      " -------------------------------------------------- \n",
      "°n classes:  10\n",
      "tot batches:  49000\n",
      "\n",
      "batch sizes train sizes:  [280, 250, 245, 200, 196, 175, 140, 125, 100, 98, 70, 56, 50, 49, 40, 35, 28, 25, 20, 14, 10, 8, 7, 5, 4, 2]\n"
     ]
    }
   ],
   "source": [
    "# get data and build sets\n",
    "#batch_size = 107\n",
    "#filename, n_classes = datasets['pneumoniamnist.npz']\n",
    "\n",
    "#xtrain, ytrain, xtest, ytest, xval, yval, xtrain_noisy, xtest_noisy, xval_noisy, channels = build_data(filename=filename, \n",
    "#                                                                                                      n_classes=n_classes, \n",
    "#                                                                                                      batch_size=batch_size,\n",
    "#                                                                                                      noise_level=0.35)\n",
    "print('\\n', '-'*50, '\\n°n classes: ', n_classes)\n",
    "print('tot batches: ', len(xtrain))\n",
    "tot_batches = len(xtrain)\n",
    "\n",
    "batch_train = MCD(n1=xtrain.shape[0], n2=xtrain.shape[0], maxb=300)\n",
    "\n",
    "print('\\nbatch sizes train sizes: ', batch_train)"
   ]
  },
  {
   "cell_type": "code",
   "execution_count": 18,
   "metadata": {},
   "outputs": [],
   "source": [
    "batch_size = 250"
   ]
  },
  {
   "cell_type": "code",
   "execution_count": 11,
   "metadata": {
    "colab": {
     "base_uri": "https://localhost:8080/",
     "height": 281
    },
    "id": "AeEO4qNEazwt",
    "outputId": "f098a71a-9aaa-457a-9cf5-6ba6e16c21f4"
   },
   "outputs": [
    {
     "data": {
      "image/png": "[encoded data removed]",
      "text/plain": [
       "<Figure size 640x480 with 1 Axes>"
      ]
     },
     "metadata": {},
     "output_type": "display_data"
    }
   ],
   "source": [
    "# display\n",
    "for i in range(10):\n",
    "    plt.clf()\n",
    "    idx = np.random.randint(0, len(xtrain))\n",
    "    plt.imshow(xtrain[idx, ...].reshape(28, 28), cmap='Greys')\n",
    "    plt.title(f'{ytrain[idx]}')\n",
    "    plt.pause(0.4)\n",
    "    clear_output(wait=True)"
   ]
  },
  {
   "cell_type": "markdown",
   "metadata": {
    "id": "FBvgedfXxlUq",
    "tags": []
   },
   "source": [
    "### DAE"
   ]
  },
  {
   "cell_type": "code",
   "execution_count": 13,
   "metadata": {
    "colab": {
     "base_uri": "https://localhost:8080/"
    },
    "id": "8dcuW94uxhFR",
    "outputId": "3e81769e-df2b-419f-cd43-288533a314fb"
   },
   "outputs": [
    {
     "name": "stdout",
     "output_type": "stream",
     "text": [
      "Sequential(\n",
      "  (0): Conv2d(1, 64, kernel_size=(4, 4), stride=(2, 2), padding=(1, 1))\n",
      "  (1): BatchNorm2d(64, eps=1e-05, momentum=0.1, affine=True, track_running_stats=True)\n",
      "  (2): LeakyReLU(negative_slope=0.01, inplace=True)\n",
      "  (3): MaxPool2d(kernel_size=2, stride=2, padding=0, dilation=1, ceil_mode=False)\n",
      "  (4): Conv2d(64, 64, kernel_size=(3, 3), stride=(1, 1), padding=(1, 1))\n",
      "  (5): BatchNorm2d(64, eps=1e-05, momentum=0.1, affine=True, track_running_stats=True)\n",
      "  (6): LeakyReLU(negative_slope=0.01, inplace=True)\n",
      "  (7): MaxPool2d(kernel_size=2, stride=2, padding=0, dilation=1, ceil_mode=False)\n",
      "  (8): Conv2d(64, 4, kernel_size=(2, 2), stride=(1, 1), padding=(1, 1))\n",
      "  (9): BatchNorm2d(4, eps=1e-05, momentum=0.1, affine=True, track_running_stats=True)\n",
      "  (10): LeakyReLU(negative_slope=0.01, inplace=True)\n",
      "  (11): ConvTranspose2d(4, 64, kernel_size=(2, 2), stride=(2, 2))\n",
      "  (12): BatchNorm2d(64, eps=1e-05, momentum=0.1, affine=True, track_running_stats=True)\n",
      "  (13): LeakyReLU(negative_slope=0.01, inplace=True)\n",
      "  (14): ConvTranspose2d(64, 64, kernel_size=(3, 3), stride=(1, 1))\n",
      "  (15): BatchNorm2d(64, eps=1e-05, momentum=0.1, affine=True, track_running_stats=True)\n",
      "  (16): LeakyReLU(negative_slope=0.01, inplace=True)\n",
      "  (17): ConvTranspose2d(64, 64, kernel_size=(4, 4), stride=(1, 1))\n",
      "  (18): LeakyReLU(negative_slope=64)\n",
      "  (19): ConvTranspose2d(64, 1, kernel_size=(4, 4), stride=(2, 2))\n",
      "  (20): Sigmoid()\n",
      ")\n"
     ]
    }
   ],
   "source": [
    "dae = u.DAE(channels=1)"
   ]
  },
  {
   "cell_type": "code",
   "execution_count": 14,
   "metadata": {
    "colab": {
     "base_uri": "https://localhost:8080/",
     "height": 334
    },
    "id": "EDgiXZdixmaE",
    "outputId": "aef22896-49aa-4c7f-ee6d-2b2a9c18eef2"
   },
   "outputs": [
    {
     "ename": "RuntimeError",
     "evalue": "Expected 3D (unbatched) or 4D (batched) input to conv2d, but got input of size: [784]",
     "output_type": "error",
     "traceback": [
      "\u001b[0;31m---------------------------------------------------------------------------\u001b[0m",
      "\u001b[0;31mRuntimeError\u001b[0m                              Traceback (most recent call last)",
      "\u001b[0;32m/var/folders/77/b66qkr5d21l_3nnw6f563fw80000gp/T/ipykernel_32888/2397698771.py\u001b[0m in \u001b[0;36m<module>\u001b[0;34m\u001b[0m\n\u001b[0;32m----> 1\u001b[0;31m \u001b[0mdae\u001b[0m\u001b[0;34m.\u001b[0m\u001b[0mtraining\u001b[0m\u001b[0;34m(\u001b[0m\u001b[0mepochs\u001b[0m\u001b[0;34m=\u001b[0m\u001b[0;36m15\u001b[0m\u001b[0;34m,\u001b[0m \u001b[0mxtrain\u001b[0m\u001b[0;34m=\u001b[0m\u001b[0mxtrain\u001b[0m\u001b[0;34m,\u001b[0m \u001b[0mxtrain_noisy\u001b[0m\u001b[0;34m=\u001b[0m\u001b[0mxtrain_noisy\u001b[0m\u001b[0;34m,\u001b[0m \u001b[0mxtest\u001b[0m\u001b[0;34m=\u001b[0m\u001b[0mxtest\u001b[0m\u001b[0;34m,\u001b[0m \u001b[0mxtest_noisy\u001b[0m\u001b[0;34m=\u001b[0m\u001b[0mxtest_noisy\u001b[0m\u001b[0;34m,\u001b[0m \u001b[0mverbose\u001b[0m\u001b[0;34m=\u001b[0m\u001b[0;32mTrue\u001b[0m\u001b[0;34m)\u001b[0m\u001b[0;34m\u001b[0m\u001b[0;34m\u001b[0m\u001b[0m\n\u001b[0m",
      "\u001b[0;32m~/Documents/Learning/courses/compML/project_2/utils_2.py\u001b[0m in \u001b[0;36mtraining\u001b[0;34m(self, epochs, xtrain, xtrain_noisy, xtest, xtest_noisy, verbose)\u001b[0m\n\u001b[1;32m   1378\u001b[0m             \u001b[0;32mfor\u001b[0m \u001b[0mi\u001b[0m\u001b[0;34m,\u001b[0m \u001b[0mx\u001b[0m\u001b[0;34m,\u001b[0m \u001b[0mx_noisy\u001b[0m \u001b[0;32min\u001b[0m \u001b[0mzip\u001b[0m\u001b[0;34m(\u001b[0m\u001b[0mrange\u001b[0m\u001b[0;34m(\u001b[0m\u001b[0mlen\u001b[0m\u001b[0;34m(\u001b[0m\u001b[0mxtrain\u001b[0m\u001b[0;34m)\u001b[0m\u001b[0;34m)\u001b[0m\u001b[0;34m,\u001b[0m \u001b[0mxtrain\u001b[0m\u001b[0;34m,\u001b[0m \u001b[0mxtrain_noisy\u001b[0m\u001b[0;34m)\u001b[0m\u001b[0;34m:\u001b[0m\u001b[0;34m\u001b[0m\u001b[0;34m\u001b[0m\u001b[0m\n\u001b[1;32m   1379\u001b[0m \u001b[0;34m\u001b[0m\u001b[0m\n\u001b[0;32m-> 1380\u001b[0;31m                 \u001b[0mx_hat\u001b[0m \u001b[0;34m=\u001b[0m \u001b[0mself\u001b[0m\u001b[0;34m.\u001b[0m\u001b[0mdae\u001b[0m\u001b[0;34m(\u001b[0m\u001b[0mx_noisy\u001b[0m\u001b[0;34m)\u001b[0m\u001b[0;34m\u001b[0m\u001b[0;34m\u001b[0m\u001b[0m\n\u001b[0m\u001b[1;32m   1381\u001b[0m                 \u001b[0mloss\u001b[0m \u001b[0;34m=\u001b[0m \u001b[0mnn\u001b[0m\u001b[0;34m.\u001b[0m\u001b[0mfunctional\u001b[0m\u001b[0;34m.\u001b[0m\u001b[0mmse_loss\u001b[0m\u001b[0;34m(\u001b[0m\u001b[0mx_hat\u001b[0m\u001b[0;34m,\u001b[0m \u001b[0mx\u001b[0m\u001b[0;34m,\u001b[0m \u001b[0mreduction\u001b[0m\u001b[0;34m=\u001b[0m\u001b[0;34m'sum'\u001b[0m\u001b[0;34m)\u001b[0m\u001b[0;34m\u001b[0m\u001b[0;34m\u001b[0m\u001b[0m\n\u001b[1;32m   1382\u001b[0m                 \u001b[0mtrain_loss\u001b[0m \u001b[0;34m+=\u001b[0m \u001b[0mloss\u001b[0m\u001b[0;34m.\u001b[0m\u001b[0mitem\u001b[0m\u001b[0;34m(\u001b[0m\u001b[0;34m)\u001b[0m\u001b[0;34m\u001b[0m\u001b[0;34m\u001b[0m\u001b[0m\n",
      "\u001b[0;32m~/opt/anaconda3/lib/python3.9/site-packages/torch/nn/modules/module.py\u001b[0m in \u001b[0;36m_call_impl\u001b[0;34m(self, *args, **kwargs)\u001b[0m\n\u001b[1;32m   1499\u001b[0m                 \u001b[0;32mor\u001b[0m \u001b[0m_global_backward_pre_hooks\u001b[0m \u001b[0;32mor\u001b[0m \u001b[0m_global_backward_hooks\u001b[0m\u001b[0;34m\u001b[0m\u001b[0;34m\u001b[0m\u001b[0m\n\u001b[1;32m   1500\u001b[0m                 or _global_forward_hooks or _global_forward_pre_hooks):\n\u001b[0;32m-> 1501\u001b[0;31m             \u001b[0;32mreturn\u001b[0m \u001b[0mforward_call\u001b[0m\u001b[0;34m(\u001b[0m\u001b[0;34m*\u001b[0m\u001b[0margs\u001b[0m\u001b[0;34m,\u001b[0m \u001b[0;34m**\u001b[0m\u001b[0mkwargs\u001b[0m\u001b[0;34m)\u001b[0m\u001b[0;34m\u001b[0m\u001b[0;34m\u001b[0m\u001b[0m\n\u001b[0m\u001b[1;32m   1502\u001b[0m         \u001b[0;31m# Do not call functions when jit is used\u001b[0m\u001b[0;34m\u001b[0m\u001b[0;34m\u001b[0m\u001b[0m\n\u001b[1;32m   1503\u001b[0m         \u001b[0mfull_backward_hooks\u001b[0m\u001b[0;34m,\u001b[0m \u001b[0mnon_full_backward_hooks\u001b[0m \u001b[0;34m=\u001b[0m \u001b[0;34m[\u001b[0m\u001b[0;34m]\u001b[0m\u001b[0;34m,\u001b[0m \u001b[0;34m[\u001b[0m\u001b[0;34m]\u001b[0m\u001b[0;34m\u001b[0m\u001b[0;34m\u001b[0m\u001b[0m\n",
      "\u001b[0;32m~/opt/anaconda3/lib/python3.9/site-packages/torch/nn/modules/container.py\u001b[0m in \u001b[0;36mforward\u001b[0;34m(self, input)\u001b[0m\n\u001b[1;32m    215\u001b[0m     \u001b[0;32mdef\u001b[0m \u001b[0mforward\u001b[0m\u001b[0;34m(\u001b[0m\u001b[0mself\u001b[0m\u001b[0;34m,\u001b[0m \u001b[0minput\u001b[0m\u001b[0;34m)\u001b[0m\u001b[0;34m:\u001b[0m\u001b[0;34m\u001b[0m\u001b[0;34m\u001b[0m\u001b[0m\n\u001b[1;32m    216\u001b[0m         \u001b[0;32mfor\u001b[0m \u001b[0mmodule\u001b[0m \u001b[0;32min\u001b[0m \u001b[0mself\u001b[0m\u001b[0;34m:\u001b[0m\u001b[0;34m\u001b[0m\u001b[0;34m\u001b[0m\u001b[0m\n\u001b[0;32m--> 217\u001b[0;31m             \u001b[0minput\u001b[0m \u001b[0;34m=\u001b[0m \u001b[0mmodule\u001b[0m\u001b[0;34m(\u001b[0m\u001b[0minput\u001b[0m\u001b[0;34m)\u001b[0m\u001b[0;34m\u001b[0m\u001b[0;34m\u001b[0m\u001b[0m\n\u001b[0m\u001b[1;32m    218\u001b[0m         \u001b[0;32mreturn\u001b[0m \u001b[0minput\u001b[0m\u001b[0;34m\u001b[0m\u001b[0;34m\u001b[0m\u001b[0m\n\u001b[1;32m    219\u001b[0m \u001b[0;34m\u001b[0m\u001b[0m\n",
      "\u001b[0;32m~/opt/anaconda3/lib/python3.9/site-packages/torch/nn/modules/module.py\u001b[0m in \u001b[0;36m_call_impl\u001b[0;34m(self, *args, **kwargs)\u001b[0m\n\u001b[1;32m   1499\u001b[0m                 \u001b[0;32mor\u001b[0m \u001b[0m_global_backward_pre_hooks\u001b[0m \u001b[0;32mor\u001b[0m \u001b[0m_global_backward_hooks\u001b[0m\u001b[0;34m\u001b[0m\u001b[0;34m\u001b[0m\u001b[0m\n\u001b[1;32m   1500\u001b[0m                 or _global_forward_hooks or _global_forward_pre_hooks):\n\u001b[0;32m-> 1501\u001b[0;31m             \u001b[0;32mreturn\u001b[0m \u001b[0mforward_call\u001b[0m\u001b[0;34m(\u001b[0m\u001b[0;34m*\u001b[0m\u001b[0margs\u001b[0m\u001b[0;34m,\u001b[0m \u001b[0;34m**\u001b[0m\u001b[0mkwargs\u001b[0m\u001b[0;34m)\u001b[0m\u001b[0;34m\u001b[0m\u001b[0;34m\u001b[0m\u001b[0m\n\u001b[0m\u001b[1;32m   1502\u001b[0m         \u001b[0;31m# Do not call functions when jit is used\u001b[0m\u001b[0;34m\u001b[0m\u001b[0;34m\u001b[0m\u001b[0m\n\u001b[1;32m   1503\u001b[0m         \u001b[0mfull_backward_hooks\u001b[0m\u001b[0;34m,\u001b[0m \u001b[0mnon_full_backward_hooks\u001b[0m \u001b[0;34m=\u001b[0m \u001b[0;34m[\u001b[0m\u001b[0;34m]\u001b[0m\u001b[0;34m,\u001b[0m \u001b[0;34m[\u001b[0m\u001b[0;34m]\u001b[0m\u001b[0;34m\u001b[0m\u001b[0;34m\u001b[0m\u001b[0m\n",
      "\u001b[0;32m~/opt/anaconda3/lib/python3.9/site-packages/torch/nn/modules/conv.py\u001b[0m in \u001b[0;36mforward\u001b[0;34m(self, input)\u001b[0m\n\u001b[1;32m    461\u001b[0m \u001b[0;34m\u001b[0m\u001b[0m\n\u001b[1;32m    462\u001b[0m     \u001b[0;32mdef\u001b[0m \u001b[0mforward\u001b[0m\u001b[0;34m(\u001b[0m\u001b[0mself\u001b[0m\u001b[0;34m,\u001b[0m \u001b[0minput\u001b[0m\u001b[0;34m:\u001b[0m \u001b[0mTensor\u001b[0m\u001b[0;34m)\u001b[0m \u001b[0;34m->\u001b[0m \u001b[0mTensor\u001b[0m\u001b[0;34m:\u001b[0m\u001b[0;34m\u001b[0m\u001b[0;34m\u001b[0m\u001b[0m\n\u001b[0;32m--> 463\u001b[0;31m         \u001b[0;32mreturn\u001b[0m \u001b[0mself\u001b[0m\u001b[0;34m.\u001b[0m\u001b[0m_conv_forward\u001b[0m\u001b[0;34m(\u001b[0m\u001b[0minput\u001b[0m\u001b[0;34m,\u001b[0m \u001b[0mself\u001b[0m\u001b[0;34m.\u001b[0m\u001b[0mweight\u001b[0m\u001b[0;34m,\u001b[0m \u001b[0mself\u001b[0m\u001b[0;34m.\u001b[0m\u001b[0mbias\u001b[0m\u001b[0;34m)\u001b[0m\u001b[0;34m\u001b[0m\u001b[0;34m\u001b[0m\u001b[0m\n\u001b[0m\u001b[1;32m    464\u001b[0m \u001b[0;34m\u001b[0m\u001b[0m\n\u001b[1;32m    465\u001b[0m \u001b[0;32mclass\u001b[0m \u001b[0mConv3d\u001b[0m\u001b[0;34m(\u001b[0m\u001b[0m_ConvNd\u001b[0m\u001b[0;34m)\u001b[0m\u001b[0;34m:\u001b[0m\u001b[0;34m\u001b[0m\u001b[0;34m\u001b[0m\u001b[0m\n",
      "\u001b[0;32m~/opt/anaconda3/lib/python3.9/site-packages/torch/nn/modules/conv.py\u001b[0m in \u001b[0;36m_conv_forward\u001b[0;34m(self, input, weight, bias)\u001b[0m\n\u001b[1;32m    457\u001b[0m                             \u001b[0mweight\u001b[0m\u001b[0;34m,\u001b[0m \u001b[0mbias\u001b[0m\u001b[0;34m,\u001b[0m \u001b[0mself\u001b[0m\u001b[0;34m.\u001b[0m\u001b[0mstride\u001b[0m\u001b[0;34m,\u001b[0m\u001b[0;34m\u001b[0m\u001b[0;34m\u001b[0m\u001b[0m\n\u001b[1;32m    458\u001b[0m                             _pair(0), self.dilation, self.groups)\n\u001b[0;32m--> 459\u001b[0;31m         return F.conv2d(input, weight, bias, self.stride,\n\u001b[0m\u001b[1;32m    460\u001b[0m                         self.padding, self.dilation, self.groups)\n\u001b[1;32m    461\u001b[0m \u001b[0;34m\u001b[0m\u001b[0m\n",
      "\u001b[0;31mRuntimeError\u001b[0m: Expected 3D (unbatched) or 4D (batched) input to conv2d, but got input of size: [784]"
     ]
    }
   ],
   "source": [
    "dae.training(epochs=15, xtrain=xtrain, xtrain_noisy=xtrain_noisy, xtest=xtest, xtest_noisy=xtest_noisy, verbose=True)"
   ]
  },
  {
   "cell_type": "code",
   "execution_count": null,
   "metadata": {
    "colab": {
     "base_uri": "https://localhost:8080/",
     "height": 440
    },
    "id": "R9RM9eOtyOwo",
    "outputId": "4ed3f441-429a-453f-cac1-72a6a0a5182f"
   },
   "outputs": [
    {
     "data": {
      "image/png": "[encoded data removed]",
      "text/plain": [
       "<Figure size 1440x432 with 24 Axes>"
      ]
     },
     "metadata": {
      "tags": []
     },
     "output_type": "display_data"
    }
   ],
   "source": [
    "fig, axs = plt.subplots(figsize=(20, 6), nrows=3, ncols=8)\n",
    "plt.tight_layout(h_pad=0.1)\n",
    "\n",
    "idxs = []\n",
    "# real images\n",
    "for i, ax in enumerate(axs[0]):\n",
    "    idx = np.random.randint(0, len(xtrain))\n",
    "    if channels == 1:\n",
    "        ax.imshow(xtrain[idx, 0, ...].reshape(28, 28), cmap='Greys')\n",
    "    else:\n",
    "        ax.imshow(xtrain[idx, 0, ...].reshape(28, 28, 3))\n",
    "    ax.set_xticks(())\n",
    "    ax.set_yticks(())\n",
    "    ax.set_title(f'real {idx}')\n",
    "\n",
    "    idxs += [idx]\n",
    "\n",
    "# noisy images\n",
    "for j, ax in enumerate(axs[1]):\n",
    "    img = xtrain_noisy[idxs[j], 0, ...].float()\n",
    "    img = img.reshape(28, 28) if channels == 1 else img.reshape(28, 28, 3)\n",
    "    if channels == 1:\n",
    "        ax.imshow(img, cmap='Greys')\n",
    "    else:\n",
    "        ax.imshow(img)\n",
    "    ax.set_xticks(())\n",
    "    ax.set_yticks(())\n",
    "    ax.set_title(f'noisy {idxs[j]}')\n",
    "\n",
    "# reconstructed images\n",
    "for k, ax in enumerate(axs[2]):\n",
    "    img = dae.dae(xtrain_noisy[idxs[k], 0, ...].float().cuda().reshape(1, channels, 28, 28)).detach().cpu().numpy()\n",
    "    img = img.reshape(28, 28) if channels == 1 else img.reshape(28, 28, 3)\n",
    "    if channels == 1:\n",
    "        ax.imshow(img, cmap='Greys')\n",
    "    else:\n",
    "        ax.imshow(img)\n",
    "    ax.set_xticks(())\n",
    "    ax.set_yticks(())\n",
    "    ax.set_title(f'reconstructed {idxs[k]}')\n",
    "        \n",
    "plt.show()"
   ]
  },
  {
   "cell_type": "markdown",
   "metadata": {
    "id": "5pBprPtee1PQ",
    "jp-MarkdownHeadingCollapsed": true,
    "tags": []
   },
   "source": [
    "### DCCVAE"
   ]
  },
  {
   "cell_type": "code",
   "execution_count": null,
   "metadata": {
    "colab": {
     "base_uri": "https://localhost:8080/"
    },
    "id": "9uL72FTbe08F",
    "outputId": "424df9ea-34f3-44b1-af41-2a0f0b3e97d8"
   },
   "outputs": [
    {
     "name": "stdout",
     "output_type": "stream",
     "text": [
      "DCCVAE(\n",
      "  (encoder): Encoder(\n",
      "    (embed): Embedding(10, 50)\n",
      "    (lin0): Linear(in_features=50, out_features=784, bias=True)\n",
      "    (conv1): Conv2d(1, 32, kernel_size=(4, 4), stride=(2, 2), padding=(1, 1))\n",
      "    (bn1): BatchNorm2d(32, eps=1e-05, momentum=0.1, affine=True, track_running_stats=True)\n",
      "    (lrelu1): LeakyReLU(negative_slope=0.01, inplace=True)\n",
      "    (mpool1): MaxPool2d(kernel_size=2, stride=2, padding=0, dilation=1, ceil_mode=False)\n",
      "    (conv2): Conv2d(32, 32, kernel_size=(3, 3), stride=(1, 1), padding=(1, 1))\n",
      "    (bn2): BatchNorm2d(32, eps=1e-05, momentum=0.1, affine=True, track_running_stats=True)\n",
      "    (lrelu2): LeakyReLU(negative_slope=0.01, inplace=True)\n",
      "    (mpool2): MaxPool2d(kernel_size=2, stride=2, padding=0, dilation=1, ceil_mode=False)\n",
      "    (conv3): Conv2d(32, 32, kernel_size=(2, 2), stride=(1, 1), padding=(1, 1))\n",
      "    (bn3): BatchNorm2d(32, eps=1e-05, momentum=0.1, affine=True, track_running_stats=True)\n",
      "    (lrelu3): LeakyReLU(negative_slope=0.01, inplace=True)\n",
      "    (lin1): Linear(in_features=512, out_features=128, bias=True)\n",
      "  )\n",
      "  (decoder): Decoder(\n",
      "    (embed): Embedding(10, 50)\n",
      "    (lin0): Linear(in_features=50, out_features=64, bias=True)\n",
      "    (lin1): Linear(in_features=128, out_features=200, bias=True)\n",
      "    (tconv1): ConvTranspose2d(2, 64, kernel_size=(3, 3), stride=(1, 1), padding=(1, 1))\n",
      "    (lrelu1): LeakyReLU(negative_slope=0.01, inplace=True)\n",
      "    (tconv2): ConvTranspose2d(64, 64, kernel_size=(4, 4), stride=(1, 1))\n",
      "    (lrelu2): LeakyReLU(negative_slope=0.01, inplace=True)\n",
      "    (tconv3): ConvTranspose2d(64, 0, kernel_size=(4, 4), stride=(2, 2))\n",
      "    (sig): Sigmoid()\n",
      "  )\n",
      ")\n"
     ]
    }
   ],
   "source": [
    "dccvae = DCCVAE_model(n_classes=n_classes, z=64, channels=channels+1)"
   ]
  },
  {
   "cell_type": "code",
   "execution_count": null,
   "metadata": {
    "colab": {
     "base_uri": "https://localhost:8080/",
     "height": 348
    },
    "id": "38BX1VRZlHh4",
    "outputId": "149af66b-ee69-4708-8a25-2c2cafc263e2"
   },
   "outputs": [
    {
     "ename": "RuntimeError",
     "evalue": "Tensors must have same number of dimensions: got 3 and 4",
     "output_type": "error",
     "traceback": [
      "\u001b[0;31m---------------------------------------------------------------------------\u001b[0m",
      "\u001b[0;31mRuntimeError\u001b[0m                              Traceback (most recent call last)",
      "\u001b[0;32m/var/folders/77/b66qkr5d21l_3nnw6f563fw80000gp/T/ipykernel_16275/1364106355.py\u001b[0m in \u001b[0;36m<module>\u001b[0;34m\u001b[0m\n\u001b[0;32m----> 1\u001b[0;31m \u001b[0mdccvae\u001b[0m\u001b[0;34m.\u001b[0m\u001b[0mtraining\u001b[0m\u001b[0;34m(\u001b[0m\u001b[0mepochs\u001b[0m\u001b[0;34m=\u001b[0m\u001b[0;36m50\u001b[0m\u001b[0;34m,\u001b[0m \u001b[0mxtrain\u001b[0m\u001b[0;34m=\u001b[0m\u001b[0mxtrain\u001b[0m\u001b[0;34m,\u001b[0m \u001b[0mytrain\u001b[0m\u001b[0;34m=\u001b[0m\u001b[0mytrain\u001b[0m\u001b[0;34m,\u001b[0m \u001b[0mxval\u001b[0m\u001b[0;34m=\u001b[0m\u001b[0mxval\u001b[0m\u001b[0;34m,\u001b[0m \u001b[0myval\u001b[0m\u001b[0;34m=\u001b[0m\u001b[0myval\u001b[0m\u001b[0;34m)\u001b[0m\u001b[0;34m\u001b[0m\u001b[0;34m\u001b[0m\u001b[0m\n\u001b[0m",
      "\u001b[0;32m~/Documents/Learning/courses/compML/project_2/utils_2.py\u001b[0m in \u001b[0;36mtraining\u001b[0;34m(self, epochs, xtrain, ytrain, xval, yval)\u001b[0m\n\u001b[1;32m    442\u001b[0m             \u001b[0;32mfor\u001b[0m \u001b[0mx\u001b[0m\u001b[0;34m,\u001b[0m \u001b[0my\u001b[0m \u001b[0;32min\u001b[0m \u001b[0mzip\u001b[0m\u001b[0;34m(\u001b[0m\u001b[0mxtrain\u001b[0m\u001b[0;34m,\u001b[0m \u001b[0mytrain\u001b[0m\u001b[0;34m)\u001b[0m\u001b[0;34m:\u001b[0m\u001b[0;34m\u001b[0m\u001b[0;34m\u001b[0m\u001b[0m\n\u001b[1;32m    443\u001b[0m \u001b[0;34m\u001b[0m\u001b[0m\n\u001b[0;32m--> 444\u001b[0;31m                 \u001b[0mx_hat\u001b[0m\u001b[0;34m,\u001b[0m \u001b[0mmu\u001b[0m\u001b[0;34m,\u001b[0m \u001b[0mlogvar\u001b[0m \u001b[0;34m=\u001b[0m \u001b[0mself\u001b[0m\u001b[0;34m.\u001b[0m\u001b[0mcvae\u001b[0m\u001b[0;34m(\u001b[0m\u001b[0mx\u001b[0m\u001b[0;34m,\u001b[0m \u001b[0my\u001b[0m\u001b[0;34m)\u001b[0m\u001b[0;34m\u001b[0m\u001b[0;34m\u001b[0m\u001b[0m\n\u001b[0m\u001b[1;32m    445\u001b[0m                 \u001b[0mloss\u001b[0m \u001b[0;34m=\u001b[0m \u001b[0mself\u001b[0m\u001b[0;34m.\u001b[0m\u001b[0mloss_function\u001b[0m\u001b[0;34m(\u001b[0m\u001b[0mx_hat\u001b[0m\u001b[0;34m,\u001b[0m \u001b[0mx\u001b[0m\u001b[0;34m,\u001b[0m \u001b[0mmu\u001b[0m\u001b[0;34m,\u001b[0m \u001b[0mlogvar\u001b[0m\u001b[0;34m)\u001b[0m\u001b[0;34m\u001b[0m\u001b[0;34m\u001b[0m\u001b[0m\n\u001b[1;32m    446\u001b[0m                 \u001b[0mtrain_loss\u001b[0m \u001b[0;34m+=\u001b[0m \u001b[0mloss\u001b[0m\u001b[0;34m.\u001b[0m\u001b[0mitem\u001b[0m\u001b[0;34m(\u001b[0m\u001b[0;34m)\u001b[0m\u001b[0;34m\u001b[0m\u001b[0;34m\u001b[0m\u001b[0m\n",
      "\u001b[0;32m~/opt/anaconda3/lib/python3.9/site-packages/torch/nn/modules/module.py\u001b[0m in \u001b[0;36m_call_impl\u001b[0;34m(self, *args, **kwargs)\u001b[0m\n\u001b[1;32m   1499\u001b[0m                 \u001b[0;32mor\u001b[0m \u001b[0m_global_backward_pre_hooks\u001b[0m \u001b[0;32mor\u001b[0m \u001b[0m_global_backward_hooks\u001b[0m\u001b[0;34m\u001b[0m\u001b[0;34m\u001b[0m\u001b[0m\n\u001b[1;32m   1500\u001b[0m                 or _global_forward_hooks or _global_forward_pre_hooks):\n\u001b[0;32m-> 1501\u001b[0;31m             \u001b[0;32mreturn\u001b[0m \u001b[0mforward_call\u001b[0m\u001b[0;34m(\u001b[0m\u001b[0;34m*\u001b[0m\u001b[0margs\u001b[0m\u001b[0;34m,\u001b[0m \u001b[0;34m**\u001b[0m\u001b[0mkwargs\u001b[0m\u001b[0;34m)\u001b[0m\u001b[0;34m\u001b[0m\u001b[0;34m\u001b[0m\u001b[0m\n\u001b[0m\u001b[1;32m   1502\u001b[0m         \u001b[0;31m# Do not call functions when jit is used\u001b[0m\u001b[0;34m\u001b[0m\u001b[0;34m\u001b[0m\u001b[0m\n\u001b[1;32m   1503\u001b[0m         \u001b[0mfull_backward_hooks\u001b[0m\u001b[0;34m,\u001b[0m \u001b[0mnon_full_backward_hooks\u001b[0m \u001b[0;34m=\u001b[0m \u001b[0;34m[\u001b[0m\u001b[0;34m]\u001b[0m\u001b[0;34m,\u001b[0m \u001b[0;34m[\u001b[0m\u001b[0;34m]\u001b[0m\u001b[0;34m\u001b[0m\u001b[0;34m\u001b[0m\u001b[0m\n",
      "\u001b[0;32m~/Documents/Learning/courses/compML/project_2/utils_2.py\u001b[0m in \u001b[0;36mforward\u001b[0;34m(self, x, y)\u001b[0m\n\u001b[1;32m    391\u001b[0m \u001b[0;34m\u001b[0m\u001b[0m\n\u001b[1;32m    392\u001b[0m     \u001b[0;32mdef\u001b[0m \u001b[0mforward\u001b[0m\u001b[0;34m(\u001b[0m\u001b[0mself\u001b[0m\u001b[0;34m,\u001b[0m \u001b[0mx\u001b[0m\u001b[0;34m,\u001b[0m \u001b[0my\u001b[0m\u001b[0;34m)\u001b[0m\u001b[0;34m:\u001b[0m\u001b[0;34m\u001b[0m\u001b[0;34m\u001b[0m\u001b[0m\n\u001b[0;32m--> 393\u001b[0;31m         \u001b[0mmu_logvar\u001b[0m \u001b[0;34m=\u001b[0m \u001b[0mself\u001b[0m\u001b[0;34m.\u001b[0m\u001b[0mencoder\u001b[0m\u001b[0;34m(\u001b[0m\u001b[0mx\u001b[0m\u001b[0;34m,\u001b[0m \u001b[0my\u001b[0m\u001b[0;34m)\u001b[0m\u001b[0;34m.\u001b[0m\u001b[0mview\u001b[0m\u001b[0;34m(\u001b[0m\u001b[0;34m-\u001b[0m\u001b[0;36m1\u001b[0m\u001b[0;34m,\u001b[0m \u001b[0;36m2\u001b[0m\u001b[0;34m,\u001b[0m \u001b[0mself\u001b[0m\u001b[0;34m.\u001b[0m\u001b[0mz\u001b[0m\u001b[0;34m)\u001b[0m\u001b[0;34m\u001b[0m\u001b[0;34m\u001b[0m\u001b[0m\n\u001b[0m\u001b[1;32m    394\u001b[0m         \u001b[0mmu\u001b[0m \u001b[0;34m=\u001b[0m \u001b[0mmu_logvar\u001b[0m\u001b[0;34m[\u001b[0m\u001b[0;34m:\u001b[0m\u001b[0;34m,\u001b[0m \u001b[0;36m0\u001b[0m\u001b[0;34m,\u001b[0m \u001b[0;34m:\u001b[0m\u001b[0;34m]\u001b[0m\u001b[0;34m\u001b[0m\u001b[0;34m\u001b[0m\u001b[0m\n\u001b[1;32m    395\u001b[0m         \u001b[0mlogvar\u001b[0m \u001b[0;34m=\u001b[0m \u001b[0mmu_logvar\u001b[0m\u001b[0;34m[\u001b[0m\u001b[0;34m:\u001b[0m\u001b[0;34m,\u001b[0m \u001b[0;36m1\u001b[0m\u001b[0;34m,\u001b[0m \u001b[0;34m:\u001b[0m\u001b[0;34m]\u001b[0m\u001b[0;34m\u001b[0m\u001b[0;34m\u001b[0m\u001b[0m\n",
      "\u001b[0;32m~/opt/anaconda3/lib/python3.9/site-packages/torch/nn/modules/module.py\u001b[0m in \u001b[0;36m_call_impl\u001b[0;34m(self, *args, **kwargs)\u001b[0m\n\u001b[1;32m   1499\u001b[0m                 \u001b[0;32mor\u001b[0m \u001b[0m_global_backward_pre_hooks\u001b[0m \u001b[0;32mor\u001b[0m \u001b[0m_global_backward_hooks\u001b[0m\u001b[0;34m\u001b[0m\u001b[0;34m\u001b[0m\u001b[0m\n\u001b[1;32m   1500\u001b[0m                 or _global_forward_hooks or _global_forward_pre_hooks):\n\u001b[0;32m-> 1501\u001b[0;31m             \u001b[0;32mreturn\u001b[0m \u001b[0mforward_call\u001b[0m\u001b[0;34m(\u001b[0m\u001b[0;34m*\u001b[0m\u001b[0margs\u001b[0m\u001b[0;34m,\u001b[0m \u001b[0;34m**\u001b[0m\u001b[0mkwargs\u001b[0m\u001b[0;34m)\u001b[0m\u001b[0;34m\u001b[0m\u001b[0;34m\u001b[0m\u001b[0m\n\u001b[0m\u001b[1;32m   1502\u001b[0m         \u001b[0;31m# Do not call functions when jit is used\u001b[0m\u001b[0;34m\u001b[0m\u001b[0;34m\u001b[0m\u001b[0m\n\u001b[1;32m   1503\u001b[0m         \u001b[0mfull_backward_hooks\u001b[0m\u001b[0;34m,\u001b[0m \u001b[0mnon_full_backward_hooks\u001b[0m \u001b[0;34m=\u001b[0m \u001b[0;34m[\u001b[0m\u001b[0;34m]\u001b[0m\u001b[0;34m,\u001b[0m \u001b[0;34m[\u001b[0m\u001b[0;34m]\u001b[0m\u001b[0;34m\u001b[0m\u001b[0;34m\u001b[0m\u001b[0m\n",
      "\u001b[0;32m~/Documents/Learning/courses/compML/project_2/utils_2.py\u001b[0m in \u001b[0;36mforward\u001b[0;34m(self, x, y)\u001b[0m\n\u001b[1;32m    310\u001b[0m \u001b[0;34m\u001b[0m\u001b[0m\n\u001b[1;32m    311\u001b[0m         \u001b[0;31m# concatenation image + label\u001b[0m\u001b[0;34m\u001b[0m\u001b[0;34m\u001b[0m\u001b[0m\n\u001b[0;32m--> 312\u001b[0;31m         \u001b[0mx\u001b[0m \u001b[0;34m=\u001b[0m \u001b[0mtorch\u001b[0m\u001b[0;34m.\u001b[0m\u001b[0mcat\u001b[0m\u001b[0;34m(\u001b[0m\u001b[0;34m(\u001b[0m\u001b[0mx\u001b[0m\u001b[0;34m,\u001b[0m \u001b[0my\u001b[0m\u001b[0;34m)\u001b[0m\u001b[0;34m,\u001b[0m \u001b[0maxis\u001b[0m\u001b[0;34m=\u001b[0m\u001b[0;36m1\u001b[0m\u001b[0;34m)\u001b[0m\u001b[0;34m\u001b[0m\u001b[0;34m\u001b[0m\u001b[0m\n\u001b[0m\u001b[1;32m    313\u001b[0m \u001b[0;34m\u001b[0m\u001b[0m\n\u001b[1;32m    314\u001b[0m         \u001b[0mx\u001b[0m \u001b[0;34m=\u001b[0m \u001b[0mself\u001b[0m\u001b[0;34m.\u001b[0m\u001b[0mconv1\u001b[0m\u001b[0;34m(\u001b[0m\u001b[0mx\u001b[0m\u001b[0;34m)\u001b[0m\u001b[0;34m\u001b[0m\u001b[0;34m\u001b[0m\u001b[0m\n",
      "\u001b[0;31mRuntimeError\u001b[0m: Tensors must have same number of dimensions: got 3 and 4"
     ]
    }
   ],
   "source": [
    "dccvae.training(epochs=50, xtrain=xtrain.cuda(), ytrain=ytrain.cuda())"
   ]
  },
  {
   "cell_type": "code",
   "execution_count": null,
   "metadata": {
    "colab": {
     "base_uri": "https://localhost:8080/",
     "height": 339
    },
    "id": "YCf_Z0tTVtbO",
    "outputId": "db44ac8f-a1b6-4f1a-8822-a341c976d85f"
   },
   "outputs": [
    {
     "data": {
      "image/png": "[encoded data removed]",
      "text/plain": [
       "<Figure size 1296x360 with 16 Axes>"
      ]
     },
     "metadata": {
      "tags": []
     },
     "output_type": "display_data"
    }
   ],
   "source": [
    "fig, axs = plt.subplots(figsize=(18, 5), nrows=2, ncols=8)\n",
    "plt.tight_layout(h_pad=0.1)\n",
    "\n",
    "idxs = []\n",
    "# real images\n",
    "for i, ax in enumerate(axs[0]):\n",
    "    idx = np.random.randint(0, len(xtrain))\n",
    "    if channels == 1:\n",
    "        ax.imshow(xtrain[idx, 0, ...].reshape(28, 28), cmap='Greys')\n",
    "    else:\n",
    "        ax.imshow(xtrain[idx, 0, ...].reshape(28, 28, 3))\n",
    "    ax.set_xticks(())\n",
    "    ax.set_yticks(())\n",
    "    ax.set_title(f'real {ytrain[idx, 0]}')\n",
    "\n",
    "    idxs += [int(ytrain[idx, 0])]\n",
    "\n",
    "# generated images\n",
    "for j, ax in enumerate(axs[1]):\n",
    "    img, _ = dccvae.generate_one(n_classes=n_classes, idx=idxs[j])\n",
    "    if channels == 1:\n",
    "        ax.imshow(img, cmap='Greys')\n",
    "    else:\n",
    "        ax.imshow(img)\n",
    "    ax.set_xticks(())\n",
    "    ax.set_yticks(())\n",
    "    ax.set_title(f'fake {idxs[j]}')\n",
    "        \n",
    "plt.show()"
   ]
  },
  {
   "cell_type": "markdown",
   "metadata": {
    "id": "F3oELfcBe4Xt",
    "jp-MarkdownHeadingCollapsed": true,
    "tags": []
   },
   "source": [
    "### DCCGAN"
   ]
  },
  {
   "cell_type": "code",
   "execution_count": null,
   "metadata": {
    "colab": {
     "base_uri": "https://localhost:8080/"
    },
    "id": "qExUEQ-re5i-",
    "outputId": "6dbe3382-6908-4ae4-9df7-1742eebb8ecb"
   },
   "outputs": [
    {
     "name": "stdout",
     "output_type": "stream",
     "text": [
      "Generator(\n",
      "  (embed): Embedding(10, 20)\n",
      "  (lin0): Linear(in_features=20, out_features=64, bias=True)\n",
      "  (lin1): Linear(in_features=64, out_features=100, bias=True)\n",
      "  (tconv1): ConvTranspose2d(1, 64, kernel_size=(3, 3), stride=(1, 1), padding=(1, 1))\n",
      "  (bn1): BatchNorm2d(64, eps=1e-05, momentum=0.1, affine=True, track_running_stats=True)\n",
      "  (lrelu1): LeakyReLU(negative_slope=0.01, inplace=True)\n",
      "  (tconv2): ConvTranspose2d(64, 64, kernel_size=(4, 4), stride=(1, 1))\n",
      "  (bn2): BatchNorm2d(64, eps=1e-05, momentum=0.1, affine=True, track_running_stats=True)\n",
      "  (lrelu2): LeakyReLU(negative_slope=0.01, inplace=True)\n",
      "  (tconv3): ConvTranspose2d(64, 0, kernel_size=(4, 4), stride=(2, 2))\n",
      "  (sig): Sigmoid()\n",
      ")\n",
      "Discriminator(\n",
      "  (embed): Embedding(10, 20)\n",
      "  (lin0): Linear(in_features=20, out_features=784, bias=True)\n",
      "  (conv1): Conv2d(1, 32, kernel_size=(4, 4), stride=(2, 2), padding=(1, 1))\n",
      "  (bn1): BatchNorm2d(32, eps=1e-05, momentum=0.1, affine=True, track_running_stats=True)\n",
      "  (lrelu1): LeakyReLU(negative_slope=0.01, inplace=True)\n",
      "  (mpool1): MaxPool2d(kernel_size=2, stride=2, padding=0, dilation=1, ceil_mode=False)\n",
      "  (conv2): Conv2d(32, 32, kernel_size=(3, 3), stride=(1, 1), padding=(1, 1))\n",
      "  (bn2): BatchNorm2d(32, eps=1e-05, momentum=0.1, affine=True, track_running_stats=True)\n",
      "  (lrelu2): LeakyReLU(negative_slope=0.01, inplace=True)\n",
      "  (mpool2): MaxPool2d(kernel_size=2, stride=2, padding=0, dilation=1, ceil_mode=False)\n",
      "  (conv3): Conv2d(32, 32, kernel_size=(2, 2), stride=(1, 1), padding=(1, 1))\n",
      "  (bn3): BatchNorm2d(32, eps=1e-05, momentum=0.1, affine=True, track_running_stats=True)\n",
      "  (lrelu3): LeakyReLU(negative_slope=0.01, inplace=True)\n",
      "  (lin1): Linear(in_features=512, out_features=1, bias=True)\n",
      "  (sig): Sigmoid()\n",
      ")\n"
     ]
    }
   ],
   "source": [
    "dccgan = DCCGAN(n_classes=n_classes, z=64, channels=channels+1)"
   ]
  },
  {
   "cell_type": "code",
   "execution_count": null,
   "metadata": {
    "colab": {
     "base_uri": "https://localhost:8080/",
     "height": 363
    },
    "id": "pvuPCmJoy0Qp",
    "outputId": "b2ac36d3-dca4-46a4-e58c-02a6a60cd920"
   },
   "outputs": [
    {
     "ename": "RuntimeError",
     "evalue": "Tensors must have same number of dimensions: got 3 and 4",
     "output_type": "error",
     "traceback": [
      "\u001b[0;31m---------------------------------------------------------------------------\u001b[0m",
      "\u001b[0;31mRuntimeError\u001b[0m                              Traceback (most recent call last)",
      "\u001b[0;32m/var/folders/77/b66qkr5d21l_3nnw6f563fw80000gp/T/ipykernel_16275/3717922431.py\u001b[0m in \u001b[0;36m<module>\u001b[0;34m\u001b[0m\n\u001b[0;32m----> 1\u001b[0;31m \u001b[0mdccgan\u001b[0m\u001b[0;34m.\u001b[0m\u001b[0mtraining\u001b[0m\u001b[0;34m(\u001b[0m\u001b[0mepochs\u001b[0m\u001b[0;34m=\u001b[0m\u001b[0;36m100\u001b[0m\u001b[0;34m,\u001b[0m \u001b[0mxtrain\u001b[0m\u001b[0;34m=\u001b[0m\u001b[0mxtrain\u001b[0m\u001b[0;34m,\u001b[0m \u001b[0mytrain\u001b[0m\u001b[0;34m=\u001b[0m\u001b[0mytrain\u001b[0m\u001b[0;34m,\u001b[0m \u001b[0mxval\u001b[0m\u001b[0;34m=\u001b[0m\u001b[0mxval\u001b[0m\u001b[0;34m,\u001b[0m \u001b[0myval\u001b[0m\u001b[0;34m=\u001b[0m\u001b[0myval\u001b[0m\u001b[0;34m)\u001b[0m\u001b[0;34m\u001b[0m\u001b[0;34m\u001b[0m\u001b[0m\n\u001b[0m",
      "\u001b[0;32m~/Documents/Learning/courses/compML/project_2/utils_2.py\u001b[0m in \u001b[0;36mtraining\u001b[0;34m(self, epochs, xtrain, ytrain, xval, yval, verbose)\u001b[0m\n\u001b[1;32m    967\u001b[0m \u001b[0;34m\u001b[0m\u001b[0m\n\u001b[1;32m    968\u001b[0m                 \u001b[0;31m# forward 1\u001b[0m\u001b[0;34m\u001b[0m\u001b[0;34m\u001b[0m\u001b[0m\n\u001b[0;32m--> 969\u001b[0;31m                 \u001b[0moutput\u001b[0m \u001b[0;34m=\u001b[0m \u001b[0mself\u001b[0m\u001b[0;34m.\u001b[0m\u001b[0mdiscriminator\u001b[0m\u001b[0;34m(\u001b[0m\u001b[0mreal_img\u001b[0m\u001b[0;34m,\u001b[0m \u001b[0my\u001b[0m\u001b[0;34m)\u001b[0m\u001b[0;34m.\u001b[0m\u001b[0mview\u001b[0m\u001b[0;34m(\u001b[0m\u001b[0;34m-\u001b[0m\u001b[0;36m1\u001b[0m\u001b[0;34m,\u001b[0m \u001b[0;36m1\u001b[0m\u001b[0;34m)\u001b[0m\u001b[0;34m.\u001b[0m\u001b[0msqueeze\u001b[0m\u001b[0;34m(\u001b[0m\u001b[0;36m1\u001b[0m\u001b[0;34m)\u001b[0m  \u001b[0;31m# forward D\u001b[0m\u001b[0;34m\u001b[0m\u001b[0;34m\u001b[0m\u001b[0m\n\u001b[0m\u001b[1;32m    970\u001b[0m                 \u001b[0merrD_real\u001b[0m \u001b[0;34m=\u001b[0m \u001b[0mself\u001b[0m\u001b[0;34m.\u001b[0m\u001b[0mcriterion\u001b[0m\u001b[0;34m(\u001b[0m\u001b[0moutput\u001b[0m\u001b[0;34m,\u001b[0m \u001b[0mlabel\u001b[0m\u001b[0;34m)\u001b[0m \u001b[0;31m# loss 4 real img\u001b[0m\u001b[0;34m\u001b[0m\u001b[0;34m\u001b[0m\u001b[0m\n\u001b[1;32m    971\u001b[0m                 \u001b[0merrD_real\u001b[0m\u001b[0;34m.\u001b[0m\u001b[0mbackward\u001b[0m\u001b[0;34m(\u001b[0m\u001b[0;34m)\u001b[0m\u001b[0;34m\u001b[0m\u001b[0;34m\u001b[0m\u001b[0m\n",
      "\u001b[0;32m~/opt/anaconda3/lib/python3.9/site-packages/torch/nn/modules/module.py\u001b[0m in \u001b[0;36m_call_impl\u001b[0;34m(self, *args, **kwargs)\u001b[0m\n\u001b[1;32m   1499\u001b[0m                 \u001b[0;32mor\u001b[0m \u001b[0m_global_backward_pre_hooks\u001b[0m \u001b[0;32mor\u001b[0m \u001b[0m_global_backward_hooks\u001b[0m\u001b[0;34m\u001b[0m\u001b[0;34m\u001b[0m\u001b[0m\n\u001b[1;32m   1500\u001b[0m                 or _global_forward_hooks or _global_forward_pre_hooks):\n\u001b[0;32m-> 1501\u001b[0;31m             \u001b[0;32mreturn\u001b[0m \u001b[0mforward_call\u001b[0m\u001b[0;34m(\u001b[0m\u001b[0;34m*\u001b[0m\u001b[0margs\u001b[0m\u001b[0;34m,\u001b[0m \u001b[0;34m**\u001b[0m\u001b[0mkwargs\u001b[0m\u001b[0;34m)\u001b[0m\u001b[0;34m\u001b[0m\u001b[0;34m\u001b[0m\u001b[0m\n\u001b[0m\u001b[1;32m   1502\u001b[0m         \u001b[0;31m# Do not call functions when jit is used\u001b[0m\u001b[0;34m\u001b[0m\u001b[0;34m\u001b[0m\u001b[0m\n\u001b[1;32m   1503\u001b[0m         \u001b[0mfull_backward_hooks\u001b[0m\u001b[0;34m,\u001b[0m \u001b[0mnon_full_backward_hooks\u001b[0m \u001b[0;34m=\u001b[0m \u001b[0;34m[\u001b[0m\u001b[0;34m]\u001b[0m\u001b[0;34m,\u001b[0m \u001b[0;34m[\u001b[0m\u001b[0;34m]\u001b[0m\u001b[0;34m\u001b[0m\u001b[0;34m\u001b[0m\u001b[0m\n",
      "\u001b[0;32m~/Documents/Learning/courses/compML/project_2/utils_2.py\u001b[0m in \u001b[0;36mforward\u001b[0;34m(self, x, y)\u001b[0m\n\u001b[1;32m    849\u001b[0m \u001b[0;34m\u001b[0m\u001b[0m\n\u001b[1;32m    850\u001b[0m         \u001b[0;31m# concatenation image + label\u001b[0m\u001b[0;34m\u001b[0m\u001b[0;34m\u001b[0m\u001b[0m\n\u001b[0;32m--> 851\u001b[0;31m         \u001b[0mx\u001b[0m \u001b[0;34m=\u001b[0m \u001b[0mtorch\u001b[0m\u001b[0;34m.\u001b[0m\u001b[0mcat\u001b[0m\u001b[0;34m(\u001b[0m\u001b[0;34m(\u001b[0m\u001b[0mx\u001b[0m\u001b[0;34m,\u001b[0m \u001b[0my\u001b[0m\u001b[0;34m)\u001b[0m\u001b[0;34m,\u001b[0m \u001b[0maxis\u001b[0m\u001b[0;34m=\u001b[0m\u001b[0;36m1\u001b[0m\u001b[0;34m)\u001b[0m\u001b[0;34m\u001b[0m\u001b[0;34m\u001b[0m\u001b[0m\n\u001b[0m\u001b[1;32m    852\u001b[0m \u001b[0;34m\u001b[0m\u001b[0m\n\u001b[1;32m    853\u001b[0m         \u001b[0mx\u001b[0m \u001b[0;34m=\u001b[0m \u001b[0mself\u001b[0m\u001b[0;34m.\u001b[0m\u001b[0mconv1\u001b[0m\u001b[0;34m(\u001b[0m\u001b[0mx\u001b[0m\u001b[0;34m)\u001b[0m\u001b[0;34m\u001b[0m\u001b[0;34m\u001b[0m\u001b[0m\n",
      "\u001b[0;31mRuntimeError\u001b[0m: Tensors must have same number of dimensions: got 3 and 4"
     ]
    }
   ],
   "source": [
    "dccgan.training(epochs=100, xtrain=xtrain.cuda(), ytrain=ytrain.cuda())"
   ]
  },
  {
   "cell_type": "code",
   "execution_count": null,
   "metadata": {
    "colab": {
     "base_uri": "https://localhost:8080/",
     "height": 339
    },
    "id": "2VVMlJylyEm2",
    "outputId": "47ce7ed8-a31c-4d71-c552-71b3a256dc75"
   },
   "outputs": [
    {
     "data": {
      "image/png": "[encoded data removed]",
      "text/plain": [
       "<Figure size 1296x360 with 16 Axes>"
      ]
     },
     "metadata": {
      "tags": []
     },
     "output_type": "display_data"
    }
   ],
   "source": [
    "fig, axs = plt.subplots(figsize=(18, 5), nrows=2, ncols=8)\n",
    "plt.tight_layout(h_pad=0.1)\n",
    "\n",
    "idxs = []\n",
    "# real images\n",
    "for i, ax in enumerate(axs[0]):\n",
    "    idx = np.random.randint(0, len(xtrain))\n",
    "    if channels == 1:\n",
    "        ax.imshow(xtrain[idx, 0, ...].reshape(28, 28), cmap='Greys')\n",
    "    else:\n",
    "        ax.imshow(xtrain[idx, 0, ...].reshape(28, 28, 3))\n",
    "    ax.set_xticks(())\n",
    "    ax.set_yticks(())\n",
    "    ax.set_title(f'real {ytrain[idx, 0]}')\n",
    "\n",
    "    idxs += [int(ytrain[idx, 0])]\n",
    "\n",
    "# generated images\n",
    "for j, ax in enumerate(axs[1]):\n",
    "    img, _ = dccgan.generate_one(n_classes=n_classes, idx=idxs[j])\n",
    "    if channels == 1:\n",
    "        ax.imshow(img, cmap='Greys')\n",
    "    else:\n",
    "        ax.imshow(img)\n",
    "    ax.set_xticks(())\n",
    "    ax.set_yticks(())\n",
    "    ax.set_title(f'fake {idxs[j]}')\n",
    "        \n",
    "plt.show()"
   ]
  },
  {
   "cell_type": "markdown",
   "metadata": {
    "id": "x5RWOH4axG86",
    "jp-MarkdownHeadingCollapsed": true,
    "tags": []
   },
   "source": [
    "### *CVAE*"
   ]
  },
  {
   "cell_type": "code",
   "execution_count": null,
   "metadata": {
    "colab": {
     "base_uri": "https://localhost:8080/",
     "height": 772
    },
    "id": "AJqDCOjFxISp",
    "outputId": "61a491c2-1069-4abe-df3e-1d9a9b4f9434"
   },
   "outputs": [
    {
     "name": "stderr",
     "output_type": "stream",
     "text": [
      "ERROR:root:Internal Python error in the inspect module.\n",
      "Below is the traceback from this internal error.\n",
      "\n"
     ]
    },
    {
     "name": "stdout",
     "output_type": "stream",
     "text": [
      "Traceback (most recent call last):\n",
      "  File \"/usr/local/lib/python3.6/dist-packages/IPython/core/interactiveshell.py\", line 2882, in run_code\n",
      "    exec(code_obj, self.user_global_ns, self.user_ns)\n",
      "  File \"<ipython-input-14-c2406869506f>\", line 2, in <module>\n",
      "    cvae = CVAE_model(n_output=n_classes, d=150)\n",
      "TypeError: __init__() got an unexpected keyword argument 'n_output'\n",
      "\n",
      "During handling of the above exception, another exception occurred:\n",
      "\n",
      "Traceback (most recent call last):\n",
      "  File \"/usr/local/lib/python3.6/dist-packages/IPython/core/interactiveshell.py\", line 1823, in showtraceback\n",
      "    stb = value._render_traceback_()\n",
      "AttributeError: 'TypeError' object has no attribute '_render_traceback_'\n",
      "\n",
      "During handling of the above exception, another exception occurred:\n",
      "\n",
      "Traceback (most recent call last):\n",
      "  File \"/usr/local/lib/python3.6/dist-packages/IPython/core/ultratb.py\", line 1132, in get_records\n",
      "    return _fixed_getinnerframes(etb, number_of_lines_of_context, tb_offset)\n",
      "  File \"/usr/local/lib/python3.6/dist-packages/IPython/core/ultratb.py\", line 313, in wrapped\n",
      "    return f(*args, **kwargs)\n",
      "  File \"/usr/local/lib/python3.6/dist-packages/IPython/core/ultratb.py\", line 358, in _fixed_getinnerframes\n",
      "    records = fix_frame_records_filenames(inspect.getinnerframes(etb, context))\n",
      "  File \"/usr/lib/python3.6/inspect.py\", line 1490, in getinnerframes\n",
      "    frameinfo = (tb.tb_frame,) + getframeinfo(tb, context)\n",
      "  File \"/usr/lib/python3.6/inspect.py\", line 1448, in getframeinfo\n",
      "    filename = getsourcefile(frame) or getfile(frame)\n",
      "  File \"/usr/lib/python3.6/inspect.py\", line 696, in getsourcefile\n",
      "    if getattr(getmodule(object, filename), '__loader__', None) is not None:\n",
      "  File \"/usr/lib/python3.6/inspect.py\", line 725, in getmodule\n",
      "    file = getabsfile(object, _filename)\n",
      "  File \"/usr/lib/python3.6/inspect.py\", line 709, in getabsfile\n",
      "    return os.path.normcase(os.path.abspath(_filename))\n",
      "  File \"/usr/lib/python3.6/posixpath.py\", line 383, in abspath\n",
      "    cwd = os.getcwd()\n",
      "FileNotFoundError: [Errno 2] No such file or directory\n"
     ]
    },
    {
     "ename": "TypeError",
     "evalue": "ignored",
     "output_type": "error",
     "traceback": [
      "\u001b[0;31m---------------------------------------------------------------------------\u001b[0m"
     ]
    }
   ],
   "source": [
    "# model creation\n",
    "cvae = CVAE_model(n_output=n_classes, d=150)\n",
    "\n",
    "# training\n",
    "cvae.training(epochs=20, xtrain=xtrain, ytrain=ytrain_hot)"
   ]
  },
  {
   "cell_type": "code",
   "execution_count": null,
   "metadata": {
    "colab": {
     "base_uri": "https://localhost:8080/",
     "height": 1000
    },
    "id": "eAmrb9-o2IU0",
    "outputId": "bec3583d-79b2-4dab-dadf-b61f435cf44b"
   },
   "outputs": [
    {
     "data": {
      "text/plain": [
       "<Figure size 432x288 with 0 Axes>"
      ]
     },
     "metadata": {
      "tags": []
     },
     "output_type": "display_data"
    },
    {
     "data": {
      "image/png": "[encoded data removed]",
      "text/plain": [
       "<Figure size 720x288 with 2 Axes>"
      ]
     },
     "metadata": {
      "needs_background": "light",
      "tags": []
     },
     "output_type": "display_data"
    },
    {
     "name": "stderr",
     "output_type": "stream",
     "text": [
      "ERROR:root:Internal Python error in the inspect module.\n",
      "Below is the traceback from this internal error.\n",
      "\n"
     ]
    },
    {
     "name": "stdout",
     "output_type": "stream",
     "text": [
      "Traceback (most recent call last):\n",
      "  File \"/usr/local/lib/python3.6/dist-packages/IPython/core/interactiveshell.py\", line 2882, in run_code\n",
      "    exec(code_obj, self.user_global_ns, self.user_ns)\n",
      "  File \"<ipython-input-241-fe3efc4e95a8>\", line 1, in <module>\n",
      "    cvae.training(epochs=10, xtrain=xtrain, ytrain=ytrain_hot)\n",
      "  File \"<ipython-input-198-4cbbe454e63f>\", line 95, in training\n",
      "    loss.backward()\n",
      "  File \"/usr/local/lib/python3.6/dist-packages/torch/tensor.py\", line 221, in backward\n",
      "    torch.autograd.backward(self, gradient, retain_graph, create_graph)\n",
      "  File \"/usr/local/lib/python3.6/dist-packages/torch/autograd/__init__.py\", line 132, in backward\n",
      "    allow_unreachable=True)  # allow_unreachable flag\n",
      "KeyboardInterrupt\n",
      "\n",
      "During handling of the above exception, another exception occurred:\n",
      "\n",
      "Traceback (most recent call last):\n",
      "  File \"/usr/local/lib/python3.6/dist-packages/IPython/core/interactiveshell.py\", line 1823, in showtraceback\n",
      "    stb = value._render_traceback_()\n",
      "AttributeError: 'KeyboardInterrupt' object has no attribute '_render_traceback_'\n",
      "\n",
      "During handling of the above exception, another exception occurred:\n",
      "\n",
      "Traceback (most recent call last):\n",
      "  File \"/usr/local/lib/python3.6/dist-packages/IPython/core/ultratb.py\", line 1132, in get_records\n",
      "    return _fixed_getinnerframes(etb, number_of_lines_of_context, tb_offset)\n",
      "  File \"/usr/local/lib/python3.6/dist-packages/IPython/core/ultratb.py\", line 313, in wrapped\n",
      "    return f(*args, **kwargs)\n",
      "  File \"/usr/local/lib/python3.6/dist-packages/IPython/core/ultratb.py\", line 358, in _fixed_getinnerframes\n",
      "    records = fix_frame_records_filenames(inspect.getinnerframes(etb, context))\n",
      "  File \"/usr/lib/python3.6/inspect.py\", line 1490, in getinnerframes\n",
      "    frameinfo = (tb.tb_frame,) + getframeinfo(tb, context)\n",
      "  File \"/usr/lib/python3.6/inspect.py\", line 1448, in getframeinfo\n",
      "    filename = getsourcefile(frame) or getfile(frame)\n",
      "  File \"/usr/lib/python3.6/inspect.py\", line 696, in getsourcefile\n",
      "    if getattr(getmodule(object, filename), '__loader__', None) is not None:\n",
      "  File \"/usr/lib/python3.6/inspect.py\", line 725, in getmodule\n",
      "    file = getabsfile(object, _filename)\n",
      "  File \"/usr/lib/python3.6/inspect.py\", line 709, in getabsfile\n",
      "    return os.path.normcase(os.path.abspath(_filename))\n",
      "  File \"/usr/lib/python3.6/posixpath.py\", line 383, in abspath\n",
      "    cwd = os.getcwd()\n",
      "FileNotFoundError: [Errno 2] No such file or directory\n"
     ]
    },
    {
     "ename": "KeyboardInterrupt",
     "evalue": "ignored",
     "output_type": "error",
     "traceback": [
      "\u001b[0;31m---------------------------------------------------------------------------\u001b[0m"
     ]
    }
   ],
   "source": [
    "cvae.training(epochs=10, xtrain=xtrain, ytrain=ytrain_hot)"
   ]
  },
  {
   "cell_type": "code",
   "execution_count": null,
   "metadata": {
    "colab": {
     "base_uri": "https://localhost:8080/",
     "height": 325
    },
    "id": "zDDTgJfNy82v",
    "outputId": "baa2ba74-c8ac-49f7-91f3-b34298b7032e"
   },
   "outputs": [
    {
     "data": {
      "image/png": "[encoded data removed]",
      "text/plain": [
       "<Figure size 720x432 with 10 Axes>"
      ]
     },
     "metadata": {
      "tags": []
     },
     "output_type": "display_data"
    }
   ],
   "source": [
    "fig, axs = plt.subplots(figsize=(10, 6), nrows=2, ncols=5)\n",
    "for row in range(2):\n",
    "    for ax in axs[row]:\n",
    "        idx = np.random.randint(0, len(xtrain))\n",
    "        ax.imshow(xtrain[idx, 0, 0, ...], cmap='Greys')\n",
    "        ax.set_xticks(())\n",
    "        ax.set_yticks(())\n",
    "        ax.set_title(f'class {ytrain[idx, 0]}')\n",
    "        \n",
    "plt.show()"
   ]
  },
  {
   "cell_type": "markdown",
   "metadata": {
    "id": "NsFk8KnU0XYO",
    "jp-MarkdownHeadingCollapsed": true,
    "tags": []
   },
   "source": [
    "### *CGAN*"
   ]
  },
  {
   "cell_type": "code",
   "execution_count": null,
   "metadata": {
    "colab": {
     "base_uri": "https://localhost:8080/",
     "height": 1000
    },
    "id": "tg3Wr1oz0YWL",
    "outputId": "afb94796-b312-4dac-a577-4d3c4131ad9d"
   },
   "outputs": [
    {
     "data": {
      "text/plain": [
       "<Figure size 432x288 with 0 Axes>"
      ]
     },
     "metadata": {
      "tags": []
     },
     "output_type": "display_data"
    },
    {
     "data": {
      "image/png": "[encoded data removed]",
      "text/plain": [
       "<Figure size 1152x288 with 3 Axes>"
      ]
     },
     "metadata": {
      "needs_background": "light",
      "tags": []
     },
     "output_type": "display_data"
    },
    {
     "name": "stderr",
     "output_type": "stream",
     "text": [
      "ERROR:root:Internal Python error in the inspect module.\n",
      "Below is the traceback from this internal error.\n",
      "\n"
     ]
    },
    {
     "name": "stdout",
     "output_type": "stream",
     "text": [
      "Traceback (most recent call last):\n",
      "  File \"/usr/local/lib/python3.6/dist-packages/IPython/core/interactiveshell.py\", line 2882, in run_code\n",
      "    exec(code_obj, self.user_global_ns, self.user_ns)\n",
      "  File \"<ipython-input-242-9ada76204645>\", line 5, in <module>\n",
      "    cgan.training(epochs=30, xtrain=xtrain, ytrain=ytrain_hot, batch_size=1, verbose=True)\n",
      "  File \"<ipython-input-23-968596b88d34>\", line 85, in training\n",
      "    self.optimizerD.step()\n",
      "  File \"/usr/local/lib/python3.6/dist-packages/torch/autograd/grad_mode.py\", line 26, in decorate_context\n",
      "    return func(*args, **kwargs)\n",
      "  File \"/usr/local/lib/python3.6/dist-packages/torch/optim/adam.py\", line 80, in step\n",
      "    if p.grad.is_sparse:\n",
      "  File \"/usr/local/lib/python3.6/dist-packages/torch/tensor.py\", line 953, in grad\n",
      "    return self._grad\n",
      "KeyboardInterrupt\n",
      "\n",
      "During handling of the above exception, another exception occurred:\n",
      "\n",
      "Traceback (most recent call last):\n",
      "  File \"/usr/local/lib/python3.6/dist-packages/IPython/core/interactiveshell.py\", line 1823, in showtraceback\n",
      "    stb = value._render_traceback_()\n",
      "AttributeError: 'KeyboardInterrupt' object has no attribute '_render_traceback_'\n",
      "\n",
      "During handling of the above exception, another exception occurred:\n",
      "\n",
      "Traceback (most recent call last):\n",
      "  File \"/usr/local/lib/python3.6/dist-packages/IPython/core/ultratb.py\", line 1132, in get_records\n",
      "    return _fixed_getinnerframes(etb, number_of_lines_of_context, tb_offset)\n",
      "  File \"/usr/local/lib/python3.6/dist-packages/IPython/core/ultratb.py\", line 313, in wrapped\n",
      "    return f(*args, **kwargs)\n",
      "  File \"/usr/local/lib/python3.6/dist-packages/IPython/core/ultratb.py\", line 358, in _fixed_getinnerframes\n",
      "    records = fix_frame_records_filenames(inspect.getinnerframes(etb, context))\n",
      "  File \"/usr/lib/python3.6/inspect.py\", line 1490, in getinnerframes\n",
      "    frameinfo = (tb.tb_frame,) + getframeinfo(tb, context)\n",
      "  File \"/usr/lib/python3.6/inspect.py\", line 1448, in getframeinfo\n",
      "    filename = getsourcefile(frame) or getfile(frame)\n",
      "  File \"/usr/lib/python3.6/inspect.py\", line 696, in getsourcefile\n",
      "    if getattr(getmodule(object, filename), '__loader__', None) is not None:\n",
      "  File \"/usr/lib/python3.6/inspect.py\", line 725, in getmodule\n",
      "    file = getabsfile(object, _filename)\n",
      "  File \"/usr/lib/python3.6/inspect.py\", line 709, in getabsfile\n",
      "    return os.path.normcase(os.path.abspath(_filename))\n",
      "  File \"/usr/lib/python3.6/posixpath.py\", line 383, in abspath\n",
      "    cwd = os.getcwd()\n",
      "FileNotFoundError: [Errno 2] No such file or directory\n"
     ]
    },
    {
     "ename": "KeyboardInterrupt",
     "evalue": "ignored",
     "output_type": "error",
     "traceback": [
      "\u001b[0;31m---------------------------------------------------------------------------\u001b[0m"
     ]
    }
   ],
   "source": [
    "# model creation\n",
    "cgan = CGAN(n_output=n_classes)\n",
    "\n",
    "# training\n",
    "cgan.training(epochs=30, xtrain=xtrain, ytrain=ytrain_hot, batch_size=1, verbose=True)"
   ]
  },
  {
   "cell_type": "markdown",
   "metadata": {
    "id": "02waBt-xHD9r",
    "tags": []
   },
   "source": [
    "# **Results**"
   ]
  },
  {
   "cell_type": "markdown",
   "metadata": {
    "id": "04tFmLEh91Ri"
   },
   "source": [
    "### *Data Augmentation*\n",
    "\n",
    "Sometimes, it happens that without the DAE the results are better (images were already quite good)"
   ]
  },
  {
   "cell_type": "code",
   "execution_count": null,
   "metadata": {
    "colab": {
     "base_uri": "https://localhost:8080/"
    },
    "id": "QUeQh5IkFUDG",
    "outputId": "21c81717-1394-4516-915f-14c461625a50"
   },
   "outputs": [
    {
     "name": "stdout",
     "output_type": "stream",
     "text": [
      "augmentation volume: 4 new batches\n"
     ]
    }
   ],
   "source": [
    "# augmentation of 10% of the original dataset\n",
    "volume = int(tot_batches*0.1) \n",
    "print('augmentation volume:', volume, 'new batches')"
   ]
  },
  {
   "cell_type": "code",
   "execution_count": null,
   "metadata": {
    "id": "Xojvvmu79y9h"
   },
   "outputs": [],
   "source": [
    "# generate new data from a given model, optionally denoised\n",
    "def new_data_generation(generator, zsqrt, channels, batch_size=1, n_batches=10, n_classes=1, denoising=False):\n",
    "\n",
    "    labels = torch.randint(n_classes, size=(n_batches, batch_size))\n",
    "    images = generator(torch.randn(batch_size, channels-1, zsqrt, zsqrt).cuda(), \n",
    "                            labels[0].cuda()).detach().cpu().reshape(1, -1, channels-1, 28, 28)\n",
    "\n",
    "    if denoising:\n",
    "        images = dae.dae(images[0].cuda()).detach().cpu().unsqueeze(0)\n",
    "\n",
    "    for i in range(n_batches-1):\n",
    "        new_batch = generator(torch.randn(batch_size, channels-1, zsqrt, zsqrt).cuda(), \n",
    "                            labels[i].cuda()).detach().cpu().reshape(1, -1, channels-1, 28, 28)\n",
    "        if denoising:\n",
    "            new_batch = dae.dae(new_batch[0].cuda()).detach().cpu().unsqueeze(0)\n",
    "                            \n",
    "        images = torch.cat((images, new_batch), axis=0)\n",
    "        \n",
    "    print('images shape: ', images.shape, '\\nlabel shape:  ', labels.shape)\n",
    "    return images, labels"
   ]
  },
  {
   "cell_type": "markdown",
   "metadata": {
    "id": "R8D0AhKDFxis"
   },
   "source": [
    "DCCVAE"
   ]
  },
  {
   "cell_type": "code",
   "execution_count": null,
   "metadata": {
    "colab": {
     "base_uri": "https://localhost:8080/"
    },
    "id": "-5WN1ctxLZBB",
    "outputId": "6c45a559-3ab7-4146-eebb-331b1a0c42b7"
   },
   "outputs": [
    {
     "name": "stdout",
     "output_type": "stream",
     "text": [
      "images shape:  torch.Size([4, 107, 1, 28, 28]) \n",
      "label shape:   torch.Size([4, 107])\n",
      "\n",
      " ---------------------------------------------------------------------------------------------------- \n",
      "\n",
      "original xtrain:  torch.Size([44, 107, 1, 28, 28]) \n",
      "original ytrain:  torch.Size([44, 107]) \n",
      "\n",
      "augmented xtrain:  torch.Size([48, 107, 1, 28, 28]) \n",
      "augmented ytrain:  torch.Size([48, 107])\n"
     ]
    }
   ],
   "source": [
    "x_vae, y_vae = new_data_generation(generator=dccvae.cvae.decoder, \n",
    "                                   zsqrt=dccvae.cvae.zsqrt, \n",
    "                                   channels=dccvae.channels, n_classes=n_classes, \n",
    "                                   batch_size=batch_size,\n",
    "                                   n_batches=volume,\n",
    "                                   denoising=False)\n",
    "\n",
    "print('\\n', '-'*100, '\\n')\n",
    "print('original xtrain: ', xtrain.shape, '\\noriginal ytrain: ', ytrain.shape, '\\n')\n",
    "big_xtrain_vae = torch.cat((xtrain, x_vae), axis=0)\n",
    "big_ytrain_vae = torch.cat((ytrain, y_vae), axis=0)\n",
    "print('augmented xtrain: ', big_xtrain_vae.shape, '\\naugmented ytrain: ', big_ytrain_vae.shape)"
   ]
  },
  {
   "cell_type": "markdown",
   "metadata": {
    "id": "o2_S9YmMF0DV"
   },
   "source": [
    "DCCGAN"
   ]
  },
  {
   "cell_type": "code",
   "execution_count": null,
   "metadata": {
    "colab": {
     "base_uri": "https://localhost:8080/"
    },
    "id": "eUGTBbNT-dYR",
    "outputId": "a3307e6c-f485-4a95-9a0b-be9ef62b54fd"
   },
   "outputs": [
    {
     "name": "stdout",
     "output_type": "stream",
     "text": [
      "images shape:  torch.Size([4, 107, 1, 28, 28]) \n",
      "label shape:   torch.Size([4, 107])\n",
      "\n",
      " ---------------------------------------------------------------------------------------------------- \n",
      "\n",
      "original xtrain:  torch.Size([44, 107, 1, 28, 28]) \n",
      "original ytrain:  torch.Size([44, 107]) \n",
      "\n",
      "augmented xtrain:  torch.Size([48, 107, 1, 28, 28]) \n",
      "augmented ytrain:  torch.Size([48, 107])\n"
     ]
    }
   ],
   "source": [
    "x_gan, y_gan = new_data_generation(generator=dccgan.generator, \n",
    "                                   zsqrt=dccgan.zsqrt, channels=dccgan.channels, n_classes=n_classes, \n",
    "                                   batch_size=batch_size,\n",
    "                                   n_batches=volume,\n",
    "                                   denoising=False)\n",
    "\n",
    "print('\\n', '-'*100, '\\n')\n",
    "print('original xtrain: ', xtrain.shape, '\\noriginal ytrain: ', ytrain.shape, '\\n')\n",
    "big_xtrain_gan = torch.cat((xtrain, x_gan), axis=0)\n",
    "big_ytrain_gan = torch.cat((ytrain, y_gan), axis=0)\n",
    "print('augmented xtrain: ', big_xtrain_gan.shape, '\\naugmented ytrain: ', big_ytrain_gan.shape)"
   ]
  },
  {
   "cell_type": "markdown",
   "metadata": {
    "id": "OdSSNc17HwGk"
   },
   "source": [
    "### *Pre-augmentation*"
   ]
  },
  {
   "cell_type": "code",
   "execution_count": null,
   "metadata": {},
   "outputs": [],
   "source": [
    "epochs = 20\n",
    "\n",
    "# model creation\n",
    "cnn = u.CNN(n_output=n_classes, channels=1)\n",
    "\n",
    "# training\n",
    "cnn.training(epochs=epochs, x_train=xtrain, y_train=ytrain, x_val=xval, y_val=yval, x_test=xtest, y_test=ytest)"
   ]
  },
  {
   "cell_type": "code",
   "execution_count": null,
   "metadata": {
    "colab": {
     "base_uri": "https://localhost:8080/"
    },
    "id": "ESJwg5_zHvzQ",
    "outputId": "59f4e2c1-a12f-4b16-f4f4-1e4f0286c768"
   },
   "outputs": [
    {
     "name": "stdout",
     "output_type": "stream",
     "text": [
      "Epoch: 5\tloss: 0.100\tacc: 97.14%\n",
      "\n",
      "+training ended+\n",
      "\n",
      " --------------------------------------------------\n",
      "\n",
      "test accuracy: 87.40%\n"
     ]
    }
   ],
   "source": [
    "epochs = 20\n",
    "\n",
    "# model creation\n",
    "cnn = CNN(n_output=n_classes, channels=channels)\n",
    "\n",
    "# training\n",
    "cnn.training(epochs=epochs, x_train=xtrain, y_train=ytrain, x_val=xval, y_val=yval, x_test=xtest, y_test=ytest)"
   ]
  },
  {
   "cell_type": "markdown",
   "metadata": {
    "id": "paW0Gh4_H8R8"
   },
   "source": [
    "### *Post-Augmentation*"
   ]
  },
  {
   "cell_type": "markdown",
   "metadata": {
    "id": "VlK2icRNK8Iy"
   },
   "source": [
    "DC-CVAE augmentation"
   ]
  },
  {
   "cell_type": "code",
   "execution_count": null,
   "metadata": {
    "colab": {
     "base_uri": "https://localhost:8080/"
    },
    "id": "wEA4hD7ttepo",
    "outputId": "a716c23b-b150-454f-8bd6-0e475627afc2"
   },
   "outputs": [
    {
     "name": "stdout",
     "output_type": "stream",
     "text": [
      "Epoch: 19\tloss: 0.791\tacc: 96.95%\n",
      "\n",
      "+training ended+\n",
      "\n",
      " --------------------------------------------------\n",
      "\n",
      "test accuracy: 87.60%\n"
     ]
    }
   ],
   "source": [
    "# model creation\n",
    "cnn = CNN(n_output=n_classes, channels=channels)\n",
    "\n",
    "# training\n",
    "cnn.training(epochs=epochs, x_train=big_xtrain_vae, y_train=big_ytrain_vae, x_val=xval, y_val=yval, x_test=xtest, y_test=ytest)"
   ]
  },
  {
   "cell_type": "markdown",
   "metadata": {
    "id": "fxNml904LDBU"
   },
   "source": [
    "DC-GAN augmentation"
   ]
  },
  {
   "cell_type": "code",
   "execution_count": null,
   "metadata": {
    "colab": {
     "base_uri": "https://localhost:8080/"
    },
    "id": "wMBlAPapH_R8",
    "outputId": "0d759f5a-785c-4c99-ac87-c9604ea489de"
   },
   "outputs": [
    {
     "name": "stdout",
     "output_type": "stream",
     "text": [
      "Epoch: 19\tloss: 0.745\tacc: 96.37%\n",
      "\n",
      "+training ended+\n",
      "\n",
      " --------------------------------------------------\n",
      "\n",
      "test accuracy: 88.74%\n"
     ]
    }
   ],
   "source": [
    "# model creation\n",
    "cnn = CNN(n_output=n_classes, channels=channels)\n",
    "\n",
    "# training\n",
    "cnn.training(epochs=epochs, x_train=big_xtrain_gan, y_train=big_ytrain_gan, x_val=xval, y_val=yval, x_test=xtest, y_test=ytest)"
   ]
  }
 ],
 "metadata": {
  "accelerator": "GPU",
  "colab": {
   "collapsed_sections": [
    "P8GQ5kpn_pMI",
    "XJqMQjgMoh7u",
    "LvfMxgqTe0FW",
    "kw3ldlDJkYpA",
    "4uDaksbmlNj3",
    "_MDcRcPUPyM1",
    "SubIOd-aYy9h",
    "C4x0QSFIg68C",
    "x5RWOH4axG86",
    "NsFk8KnU0XYO"
   ],
   "provenance": []
  },
  "kernelspec": {
   "display_name": "Python 3 (ipykernel)",
   "language": "python",
   "name": "python3"
  },
  "language_info": {
   "codemirror_mode": {
    "name": "ipython",
    "version": 3
   },
   "file_extension": ".py",
   "mimetype": "text/x-python",
   "name": "python",
   "nbconvert_exporter": "python",
   "pygments_lexer": "ipython3",
   "version": "3.9.13"
  }
 },
 "nbformat": 4,
 "nbformat_minor": 4
}
